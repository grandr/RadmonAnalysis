{
 "cells": [
  {
   "cell_type": "code",
   "execution_count": 1,
   "metadata": {
    "collapsed": false
   },
   "outputs": [],
   "source": [
    "import os, sys\n",
    "import ROOT\n",
    "sys.path.append(\"../Utils/\")\n",
    "sys.path.append(\"../Config/\")\n",
    "import xconfig\n",
    "import xutils\n",
    "from fillReport import *\n",
    "import math\n",
    "\n",
    "fillReport = FillReport('../Config/FillReport_1446656923991.xls')\n",
    "#\n",
    "cfg = xconfig.Config('../Config/sourceCalibration.ini')\n",
    "cfgData = cfg.get_option('Detectors')\n",
    "detInd = {}\n",
    "detNo = {}\n",
    "detCf = {}\n",
    "detCfErr = {}\n",
    "for key in cfgData.keys():\n",
    "    tmp = cfgData[key].split()\n",
    "    detInd[key] = int(tmp[0])\n",
    "    detNo[key] = int(tmp[1])\n",
    "    detCf[key] = float(tmp[2])\n",
    "    detCfErr[key] = float(tmp[3])\n",
    "del cfg"
   ]
  },
  {
   "cell_type": "code",
   "execution_count": 9,
   "metadata": {
    "collapsed": true
   },
   "outputs": [],
   "source": [
    "inputPattern = '/home/data/RadMonData/RadmonFills/radmon__XXX__.root'\n",
    "refIndx = 5   # PFIB used to find beginning of the collisions\n",
    "rateCut = 50.  # If rate higher than this value, collisions started \n",
    "minPeakInstLumi = 10.  # Only fills with larger lumi are taken\n",
    "deltaT = 100.  #  Warm-up cut  \n",
    "minBfield = 3.6\n",
    "\n",
    "#fills = [ 4528, 4530]\n",
    "fills = [ 3960, 3962, 3965, 3971, 3974,3976, 3981, 3983, 3986, 3988, 3992, 3996, \n",
    "        4001, 4006, 4008, 4019, 4020, 4201, 4205, 4207, 4208, 4210, 4211, 4212, \n",
    "         4214, 4219, 4220, 4224, 4225, 4231, 4243, 4246, 4249, 4254, 4256, 4257, \n",
    "         4266, 4268, 4269, 4322, 4323, 4332, 4337, 4341, 4342, 4349, 4356, 4360, \n",
    "         4363, 4364, 4376, 4381, 4384, 4386, 4391, 4393, 4397, 4398, 4402, 4410, \n",
    "         4418, 4420, 4423, 4426, 4428, 4432, 4434, 4435, 4437,  4466, 4467,4476, 4477, 4479, 4485, \n",
    "         4495, 4496, 4499, 4505, 4509, 4510, 4511, 4513, 4518, 4519, 4522, 4525, \n",
    "         4528, 4530, 4532, 4536, 4538, 4540, 4545, 4555, 4557, 4562, 4565, ]\n",
    "#         4440, 4444, 4448, 4449, 4452, 4455, 4462, 4463, 4464,]\n",
    "#fills = [4440, 4444, 4448, 4449, 4452, 4455, 4462, 4463, 4464,]"
   ]
  },
  {
   "cell_type": "markdown",
   "metadata": {},
   "source": [
    "# Ratio vs fill"
   ]
  },
  {
   "cell_type": "code",
   "execution_count": 10,
   "metadata": {
    "collapsed": false
   },
   "outputs": [
    {
     "name": "stdout",
     "output_type": "stream",
     "text": [
      "Starting...\n",
      "==============Done===============\n"
     ]
    }
   ],
   "source": [
    "# Ratio vs fill\n",
    "graphs = {}\n",
    "graphs[\"pnit/pnib\"] = ROOT.TGraphErrors()\n",
    "graphs[\"pfit/pfib\"] = ROOT.TGraphErrors()\n",
    "graphs[\"pfit/pnit\"] = ROOT.TGraphErrors()\n",
    "graphs[\"pfib/pnib\"] = ROOT.TGraphErrors()\n",
    "\n",
    "graphs[\"mnit/mnib\"] = ROOT.TGraphErrors()\n",
    "graphs[\"mfit/mfib\"] = ROOT.TGraphErrors()\n",
    "graphs[\"mfit/mnit\"] = ROOT.TGraphErrors()\n",
    "graphs[\"mfib/mnib\"] = ROOT.TGraphErrors()\n",
    "\n",
    "graphsLumi = {}\n",
    "graphsLumi[\"pnit\"] = ROOT.TGraph()\n",
    "graphsLumi[\"pfit\"] = ROOT.TGraph()\n",
    "graphsLumi[\"pfit\"] = ROOT.TGraph()\n",
    "graphsLumi[\"pfib\"] = ROOT.TGraph()\n",
    "graphsLumi[\"mnit\"] = ROOT.TGraph()\n",
    "graphsLumi[\"mfit\"] = ROOT.TGraph()\n",
    "graphsLumi[\"mfit\"] = ROOT.TGraph()\n",
    "graphsLumi[\"mfib\"] = ROOT.TGraph()\n",
    "\n",
    "for key in graphs.keys():\n",
    "    graphs[key].SetTitle(key.upper() +  \" vs Fill number\")\n",
    "    graphs[key].SetMarkerStyle(8)\n",
    "    \n",
    "for key in graphsLumi.keys():\n",
    "    graphsLumi[key].SetTitle(key.upper() +  \"/deliveredLumi vs Fill number\")\n",
    "    graphsLumi[key].SetMarkerStyle(8)\n",
    "\n",
    "print \"Starting...\"\n",
    "for fill in fills:\n",
    "    \n",
    "    # Fill cuts\n",
    "    if fillReport.getFillPeakInstLumi(fill) < minPeakInstLumi:\n",
    "        #print \"Low FillPeakInstLumi for fill\", fill\n",
    "        continue\n",
    "    if fillReport.getFillField(fill) < minBfield:\n",
    "        #print \"Low magnetic field for fill\", fill\n",
    "        continue       \n",
    "    if fillReport.getFillDuration(fill) < deltaT:\n",
    "        #print \"Short fill\", fill\n",
    "        continue\n",
    "    \n",
    "    inputFile = inputPattern.replace('__XXX__', str(fill))\n",
    "    try:\n",
    "        fin = ROOT.TFile(inputFile,'READ')\n",
    "        #print \"Processing fill\", fillpeakInstLumi\n",
    "    except IOError:\n",
    "        print \"Cannot open file\", inputFile\n",
    "        continue\n",
    "    t = fin.Get(\"t\")      \n",
    "    \n",
    "    # Sums\n",
    "    sums = {\"pnit\":0.,\n",
    "            \"pnib\":0., \n",
    "            \"pfit\":0.,\n",
    "            \"pfib\":0.,\n",
    "            \"mnit\":0.,\n",
    "            \"mnib\":0., \n",
    "            \"mfit\":0.,\n",
    "            \"mfib\":0.\n",
    "            }\n",
    "    \n",
    "    tsColl = -10000\n",
    "    for i in range(0, t.GetEntries()):\n",
    "        nb = t.GetEntry(i)\n",
    "        if nb < 0:\n",
    "            continue\n",
    "        \n",
    "        #Start of collisions \n",
    "        if tsColl < 0:\n",
    "            if t.rates[refIndx] > rateCut:\n",
    "                tsColl = t.tstamp  \n",
    "        if tsColl < 0 or t.tstamp < tsColl + deltaT:\n",
    "            continue\n",
    "            \n",
    "        for key in sums.keys():\n",
    "            sums[key] += t.rates[detInd[key]]\n",
    "\n",
    "#==== Fill done\n",
    "\n",
    "    for key in graphs.keys():\n",
    "        (nom, denom) = key.split('/')\n",
    "        if sums[denom] > 0.:\n",
    "            y = sums[nom]/sums[denom]\n",
    "            ddenom = 1/sums[denom]\n",
    "        else:    \n",
    "            y = 0.\n",
    "            ddenom = 0.\n",
    "        if sums[nom] > 0.:\n",
    "            dnom = 1/sums[nom]\n",
    "        else:\n",
    "            dnom = 0.   \n",
    "            \n",
    "\n",
    "        dy = y*math.sqrt(dnom + ddenom)    \n",
    "        \n",
    "        n = graphs[key].GetN()\n",
    "        graphs[key].SetPoint(n, float(fill), y)\n",
    "        graphs[key].SetPointError(n, 0, dy)\n",
    "        \n",
    "    fillDeliveredLumi = fillReport.getFillDeliveredLumi(fill)\n",
    "    for key in graphsLumi.keys():\n",
    "        n = graphsLumi[key].GetN()\n",
    "        graphsLumi[key].SetPoint(n, float(fill), sums[key]/fillDeliveredLumi)\n",
    "        \n",
    "print \"==============Done===============\"  "
   ]
  },
  {
   "cell_type": "markdown",
   "metadata": {},
   "source": [
    "#Plot  ratios vs fill No"
   ]
  },
  {
   "cell_type": "code",
   "execution_count": 11,
   "metadata": {
    "collapsed": false
   },
   "outputs": [],
   "source": [
    "cp = ROOT.TCanvas(\"cp\", \"+Z\", 800, 800)\n",
    "cp.Divide(2,2)\n",
    "cp.cd(1)\n",
    "graphs[\"pnit/pnib\"].Draw(\"AP\")\n",
    "graphs[\"pnit/pnib\"].GetYaxis().SetRangeUser(0.5, .8)\n",
    "cp.cd(2)\n",
    "graphs[\"pfit/pfib\"].Draw(\"AP\")\n",
    "graphs[\"pfit/pfib\"].GetYaxis().SetRangeUser(0.5, .8)\n",
    "cp.cd(3)\n",
    "graphs[\"pfit/pnit\"].Draw(\"AP\")\n",
    "graphs[\"pfit/pnit\"].GetYaxis().SetRangeUser(1., 1.3)\n",
    "cp.cd(4)\n",
    "graphs[\"pfib/pnib\"].Draw(\"AP\")\n",
    "graphs[\"pfib/pnib\"].GetYaxis().SetRangeUser(1., 1.3)\n",
    "cp.Update()\n",
    "#\n",
    "cm = ROOT.TCanvas(\"cm\", \"-Z\", 800, 800)\n",
    "cm.Divide(2,2)\n",
    "cm.cd(1)\n",
    "graphs[\"mnit/mnib\"].Draw(\"AP\")\n",
    "graphs[\"mnit/mnib\"].GetYaxis().SetRangeUser(0.7, 1.)\n",
    "cm.cd(2)\n",
    "graphs[\"mfit/mfib\"].Draw(\"AP\")\n",
    "graphs[\"mfit/mfib\"].GetYaxis().SetRangeUser(1.1, 1.5)\n",
    "cm.cd(3)\n",
    "graphs[\"mfit/mnit\"].Draw(\"AP\")\n",
    "graphs[\"mfit/mnit\"].GetYaxis().SetRangeUser(1.4, 2.)\n",
    "cm.cd(4)\n",
    "graphs[\"mfib/mnib\"].Draw(\"AP\")\n",
    "graphs[\"mfib/mnib\"].GetYaxis().SetRangeUser(0.7, 1.1)\n",
    "cm.Update()   "
   ]
  },
  {
   "cell_type": "code",
   "execution_count": 7,
   "metadata": {
    "collapsed": false
   },
   "outputs": [],
   "source": [
    "c1 = ROOT.TCanvas()\n",
    "graphs[\"pnit/pnib\"].Draw(\"AP\")\n",
    "graphs[\"pnit/pnib\"].GetYaxis().SetRangeUser(0.3, 1.)\n",
    "graphs[\"pnit/pnib\"].GetXaxis().SetTitle(\"Fill number\")\n",
    "#graphs[\"pnit/pnib\"].Draw(\"AP\")\n",
    "c1.Update()"
   ]
  },
  {
   "cell_type": "markdown",
   "metadata": {
    "collapsed": false
   },
   "source": [
    "# Draw integrated rate vs delivered lumi"
   ]
  },
  {
   "cell_type": "code",
   "execution_count": 4,
   "metadata": {
    "collapsed": false
   },
   "outputs": [],
   "source": [
    "cpl = ROOT.TCanvas(\"cpl\", \"+Z\", 800, 800)\n",
    "cpl.Divide(2,2)\n",
    "cpl.cd(1)\n",
    "graphsLumi[\"pnit\"].Draw(\"AP\")\n",
    "#graphsLumi[\"pnit/pnib\"].GetYaxis().SetRangeUser(0.5, .8)\n",
    "cpl.cd(2)\n",
    "graphsLumi[\"pfit\"].Draw(\"AP\")\n",
    "cpl.cd(3)\n",
    "graphsLumi[\"pfit\"].Draw(\"AP\")\n",
    "cpl.cd(4)\n",
    "graphsLumi[\"pfib\"].Draw(\"AP\")\n",
    "cpl.Update()\n",
    "#\n",
    "cml = ROOT.TCanvas(\"cml\", \"-Z\", 800, 800)\n",
    "cml.Divide(2,2)\n",
    "cml.cd(1)\n",
    "graphsLumi[\"mnit\"].Draw(\"AP\")\n",
    "#graphsLumi[\"mnit/pnib\"].GetYaxis().SetRangeUser(0.5, .8)\n",
    "cml.cd(2)\n",
    "graphsLumi[\"mfit\"].Draw(\"AP\")\n",
    "cml.cd(3)\n",
    "graphsLumi[\"mfit\"].Draw(\"AP\")\n",
    "cml.cd(4)\n",
    "graphsLumi[\"mfib\"].Draw(\"AP\")\n",
    "cml.Update()\n"
   ]
  },
  {
   "cell_type": "markdown",
   "metadata": {},
   "source": [
    "#Stat distributions"
   ]
  },
  {
   "cell_type": "code",
   "execution_count": 58,
   "metadata": {
    "collapsed": false
   },
   "outputs": [
    {
     "name": "stdout",
     "output_type": "stream",
     "text": [
      "=================DONE=================\n"
     ]
    }
   ],
   "source": [
    "# \n",
    "histos = {}\n",
    "nbins = 100\n",
    "#no calibration factors\n",
    "histos[\"pnit/pnib\"] = ROOT.TH1D(\"pnit_pnib\", \"PNIT/PNIB\", nbins, 0., -1.)\n",
    "histos[\"pfit/pfib\"] = ROOT.TH1D(\"pfit_pfib\", \"PFIT/PFIB\", nbins, 0., -1.)\n",
    "histos[\"pfit/pnit\"] = ROOT.TH1D(\"pfit_pnit\", \"PFIT/PNIT\", nbins, 0., -1.)\n",
    "histos[\"pfib/pnib\"] = ROOT.TH1D(\"pfib_pnib\", \"PFIB/PNIB\", nbins, 0., -1.)\n",
    "histos[\"mnit/mnib\"] = ROOT.TH1D(\"mnit_mnib\", \"MNIT/MNIB\", nbins, 0., -1.)\n",
    "histos[\"mfit/mfib\"] = ROOT.TH1D(\"mfit_mfib\", \"MFIT/MFIB\", nbins, 0., -1.)\n",
    "histos[\"mfit/mnit\"] = ROOT.TH1D(\"mfit_mnit\", \"MFIT/MNIT\", nbins, 0., -1.)\n",
    "histos[\"mfib/mnib\"] = ROOT.TH1D(\"mfib_mnib\", \"MFIB/MNIB\", nbins, 0., -1.)\n",
    "\n",
    "histos[\"pnit/pnib\"].SetLineColor(ROOT.kRed)\n",
    "histos[\"pfit/pfib\"].SetLineColor(ROOT.kRed)\n",
    "histos[\"pfit/pnit\"].SetLineColor(ROOT.kRed)\n",
    "histos[\"pfib/pnib\"].SetLineColor(ROOT.kRed)\n",
    "histos[\"mnit/mnib\"].SetLineColor(ROOT.kRed)\n",
    "histos[\"mfit/mfib\"].SetLineColor(ROOT.kRed)\n",
    "histos[\"mfit/mnit\"].SetLineColor(ROOT.kRed)\n",
    "histos[\"mfib/mnib\"].SetLineColor(ROOT.kRed)\n",
    "\n",
    "chistos = {}\n",
    "#With calibration factors\n",
    "chistos[\"pnit/pnib\"] = ROOT.TH1D(\"c_pnit_pnib\", \"PNIT/PNIB\", nbins, 0., -1.)\n",
    "chistos[\"pfit/pfib\"] = ROOT.TH1D(\"c_pfit_pfib\", \"PFIT/PFIB\", nbins, 0., -1.)\n",
    "chistos[\"pfit/pnit\"] = ROOT.TH1D(\"c_pfit_pnit\", \"PFIT/PNIT\", nbins, 0., -1.)\n",
    "chistos[\"pfib/pnib\"] = ROOT.TH1D(\"c_pfib_pnib\", \"PFIB/PNIB\", nbins, 0., -1.)\n",
    "chistos[\"mnit/mnib\"] = ROOT.TH1D(\"c_mnit_mnib\", \"MNIT/MNIB\", nbins, 0., -1.)\n",
    "chistos[\"mfit/mfib\"] = ROOT.TH1D(\"c_mfit_mfib\", \"MFIT/MFIB\", nbins, 0., -1.)\n",
    "chistos[\"mfit/mnit\"] = ROOT.TH1D(\"c_mfit_mnit\", \"MFIT/MNIT\", nbins, 0., -1.)\n",
    "chistos[\"mfib/mnib\"] = ROOT.TH1D(\"c_mfib_mnib\", \"MFIB/MNIB\", nbins, 0., -1.)\n",
    "\n",
    "\n",
    "for fill in fills:\n",
    "    # Fill cuts\n",
    "    if fillReport.getFillPeakInstLumi(fill) < minPeakInstLumi:\n",
    "        #print \"Low FillPeakInstLumi for fill\", fill\n",
    "        continue\n",
    "    if fillReport.getFillField(fill) < minBfield:\n",
    "        #print \"Low magnetic f5ield for fill\", fill\n",
    "        continue\n",
    "    if fillReport.getFillDuration(fill) < deltaT:\n",
    "        #print \"Short fill\", fill\n",
    "        continue\n",
    "    \n",
    "    inputFile = inputPattern.replace('__XXX__', str(fill))\n",
    "    try:\n",
    "        fin = ROOT.TFile(inputFile,'READ')\n",
    "        #print \"Processing fill\", fill\n",
    "    except IOError:\n",
    "        print \"Cannot open file\", inputFile\n",
    "        continue\n",
    "    t = fin.Get(\"t\")      \n",
    "\n",
    "    \n",
    "    tsColl = -10000\n",
    "\n",
    "    for i in range(0, t.GetEntries()):\n",
    "        nb = t.GetEntry(i)\n",
    "        if nb < 0:\n",
    "            continue\n",
    "        \n",
    "        #Start of collisions \n",
    "        if tsColl < 0:\n",
    "            if t.rates[refIndx] > rateCut:\n",
    "                tsColl = t.tstamp  \n",
    "        if tsColl < 0 or t.tstamp < tsColl + deltaT:\n",
    "            continue\n",
    "            \n",
    "\n",
    "        ROOT.gROOT.cd()\n",
    "        for key in histos.keys():            \n",
    "            (nom, denom) = key.split('/')\n",
    "            \n",
    "            if t.rates[detInd[denom]] > 0. and t.rates[detInd[nom]] > 0. :\n",
    "                histos[key].Fill(t.rates[detInd[nom]]/t.rates[detInd[denom]])\n",
    "                chistos[key].Fill(t.rates[detInd[nom]]*detCf[nom]/t.rates[detInd[denom]]/detCf[denom])\n",
    "                \n",
    "print \"=================DONE=================\""
   ]
  },
  {
   "cell_type": "markdown",
   "metadata": {},
   "source": [
    "##Plot statistical ratios (no calibration factors)"
   ]
  },
  {
   "cell_type": "code",
   "execution_count": 46,
   "metadata": {
    "collapsed": false
   },
   "outputs": [
    {
     "name": "stderr",
     "output_type": "stream",
     "text": [
      "TCanvas::Constructor:0: RuntimeWarning: Deleting canvas with same name: cp\n",
      "TCanvas::Constructor:0: RuntimeWarning: Deleting canvas with same name: cm\n"
     ]
    }
   ],
   "source": [
    "cp = ROOT.TCanvas(\"cp\", \"+Z\", 800, 800)\n",
    "cp.Divide(2,2)\n",
    "cp.cd(1)\n",
    "histos[\"pnit/pnib\"].Draw()\n",
    "cp.cd(2)\n",
    "histos[\"pfit/pfib\"].Draw()\n",
    "cp.cd(3)\n",
    "histos[\"pfit/pnit\"].Draw()\n",
    "cp.cd(4)\n",
    "histos[\"pfib/pnib\"].Draw()\n",
    "cp.Update()\n",
    "#\n",
    "cm = ROOT.TCanvas(\"cm\", \"-Z\", 800, 800)\n",
    "cm.Divide(2,2)\n",
    "cm.cd(1)\n",
    "histos[\"mnit/mnib\"].Draw()\n",
    "cm.cd(2)\n",
    "histos[\"mfit/mfib\"].Draw()\n",
    "cm.cd(3)\n",
    "histos[\"mfit/mnit\"].Draw()\n",
    "cm.cd(4)\n",
    "histos[\"mfib/mnib\"].Draw()\n",
    "cm.Update()"
   ]
  },
  {
   "cell_type": "markdown",
   "metadata": {
    "collapsed": true
   },
   "source": [
    "##Plot statistical ratios (with calibration factors)"
   ]
  },
  {
   "cell_type": "code",
   "execution_count": 59,
   "metadata": {
    "collapsed": false
   },
   "outputs": [
    {
     "name": "stderr",
     "output_type": "stream",
     "text": [
      "TCanvas::Constructor:0: RuntimeWarning: Deleting canvas with same name: ccp\n",
      "TCanvas::Constructor:0: RuntimeWarning: Deleting canvas with same name: ccm\n"
     ]
    }
   ],
   "source": [
    "ccp = ROOT.TCanvas(\"ccp\", \"+Z\", 800, 800)\n",
    "ccp.Divide(2,2)\n",
    "ccp.cd(1)\n",
    "chistos[\"pnit/pnib\"].Draw()\n",
    "ccp.cd(2)\n",
    "chistos[\"pfit/pfib\"].Draw()\n",
    "ccp.cd(3)\n",
    "chistos[\"pfit/pnit\"].Draw()\n",
    "ccp.cd(4)\n",
    "chistos[\"pfib/pnib\"].Draw()\n",
    "ccp.Update()\n",
    "#\n",
    "ccm = ROOT.TCanvas(\"ccm\", \"-Z\", 800, 800)\n",
    "ccm.Divide(2,2)\n",
    "ccm.cd(1)\n",
    "chistos[\"mnit/mnib\"].Draw()\n",
    "ccm.cd(2)\n",
    "chistos[\"mfit/mfib\"].Draw()\n",
    "ccm.cd(3)\n",
    "chistos[\"mfit/mnit\"].Draw()\n",
    "ccm.cd(4)\n",
    "chistos[\"mfib/mnib\"].Draw()\n",
    "ccm.Update()"
   ]
  },
  {
   "cell_type": "code",
   "execution_count": 49,
   "metadata": {
    "collapsed": false
   },
   "outputs": [
    {
     "name": "stdout",
     "output_type": "stream",
     "text": [
      "0.798986821289 +/ 3.3135415475e-05\n",
      "0.0151832533707\n",
      "0.799 \t0.717\n"
     ]
    }
   ],
   "source": [
    "#Fit \n",
    "chistos[\"pnit/pnib\"].Fit(\"gaus\")\n",
    "print chistos[\"pnit/pnib\"].GetMean(), \"+/\", chistos[\"pnit/pnib\"].GetMeanError()\n",
    "\n",
    "print chistos[\"pnit/pnib\"].GetRMS()\n",
    "\n",
    "print '%.3f' % chistos[\"pnit/pnib\"].GetMean(), '\\t', '%.3f' % histos[\"pnit/pnib\"].GetMean()\n"
   ]
  },
  {
   "cell_type": "code",
   "execution_count": 60,
   "metadata": {
    "collapsed": false
   },
   "outputs": [
    {
     "name": "stdout",
     "output_type": "stream",
     "text": [
      "Ratio\t\tNo CF\tWith CF\n",
      "MFIB/MNIB \t1.012 \t0.717\n",
      "MFIT/MFIB \t1.435 \t1.351\n",
      "MFIT/MNIT \t1.660 \t1.285\n",
      "MNIT/MNIB \t0.875 \t0.753\n",
      "PFIB/PNIB \t1.200 \t1.208\n",
      "PFIT/PFIB \t0.650 \t0.654\n",
      "PFIT/PNIT \t1.088 \t0.990\n",
      "PNIT/PNIB \t0.717 \t0.799\n"
     ]
    }
   ],
   "source": [
    "print \"Ratio\\t\\tNo CF\\tWith CF\" \n",
    "for key in sorted(histos.keys()):\n",
    "    print key.upper(), '\\t', '%.3f' % histos[key].GetMean(), '\\t', '%.3f' % chistos[key].GetMean()"
   ]
  },
  {
   "cell_type": "code",
   "execution_count": null,
   "metadata": {
    "collapsed": true
   },
   "outputs": [],
   "source": []
  }
 ],
 "metadata": {
  "kernelspec": {
   "display_name": "Python 2",
   "language": "python",
   "name": "python2"
  },
  "language_info": {
   "codemirror_mode": {
    "name": "ipython",
    "version": 2
   },
   "file_extension": ".py",
   "mimetype": "text/x-python",
   "name": "python",
   "nbconvert_exporter": "python",
   "pygments_lexer": "ipython2",
   "version": "2.7.10"
  }
 },
 "nbformat": 4,
 "nbformat_minor": 0
}
