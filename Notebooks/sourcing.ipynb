{
 "metadata": {
  "name": "sourcing"
 },
 "nbformat": 3,
 "nbformat_minor": 0,
 "worksheets": [
  {
   "cells": [
    {
     "cell_type": "code",
     "collapsed": false,
     "input": [
      "import ROOT"
     ],
     "language": "python",
     "metadata": {},
     "outputs": [],
     "prompt_number": 1
    },
    {
     "cell_type": "raw",
     "metadata": {},
     "source": [
      "******************************************************************************\n",
      "*Tree    :Rate      : RadMon Rates                                           *\n",
      "*Entries :     1440 : Total =          226408 bytes  File  Size =      31497 *\n",
      "*        :          : Tree compression factor =   7.28                       *\n",
      "******************************************************************************\n",
      "*Br    0 :rate      : tstamp/I:period/I:readout/I:status[24]/s:rates[24]/F   *\n",
      "*Entries :     1440 : Total  Size=     226050 bytes  File Size  =      30921 *\n",
      "*Baskets :        8 : Basket Size=      32000 bytes  Compression=   7.28     *\n",
      "*............................................................................*"
     ]
    },
    {
     "cell_type": "code",
     "collapsed": false,
     "input": [
      "f = ROOT.TFile(\"/afs/cern.ch/work/g/grandr/Bril/Data/Sourcing/run00104_pnxt_5_105.root\")\n",
      "t = f.Get(\"Rate\")\n",
      "#t.Print()"
     ],
     "language": "python",
     "metadata": {},
     "outputs": [],
     "prompt_number": 3
    },
    {
     "cell_type": "code",
     "collapsed": false,
     "input": [
      "t.Draw(\"rates[0]:tstamp\")"
     ],
     "language": "python",
     "metadata": {},
     "outputs": [],
     "prompt_number": 8
    },
    {
     "cell_type": "code",
     "collapsed": false,
     "input": [
      "hp = ROOT.TH2D(\"hp\", \"Rate vs time\", 70, 0., 140.*60, 100, 500., 1000.)\n",
      "t0 = -1000\n",
      "for i in range(0, t.GetEntries()):\n",
      "    nb = t.GetEntry(i)\n",
      "    if nb < 0:\n",
      "        continue    \n",
      "    if t0 < 0:\n",
      "        t0 = t.tstamp\n",
      "    hp.Fill(t.tstamp-t0, t.rates[0])\n",
      "pp = hp.ProfileX()\n",
      "pp.SetMinimum(600)"
     ],
     "language": "python",
     "metadata": {},
     "outputs": [
      {
       "output_type": "stream",
       "stream": "stderr",
       "text": [
        "TFile::Append:0: RuntimeWarning: Replacing existing TH1: hp (Potential memory leak).\n"
       ]
      }
     ],
     "prompt_number": 32
    },
    {
     "cell_type": "code",
     "collapsed": false,
     "input": [
      "c = ROOT.TCanvas('c', '', 800, 600)\n",
      "ROOT.gStyle.SetOptStat(0)\n",
      "pp.Draw()"
     ],
     "language": "python",
     "metadata": {},
     "outputs": [
      {
       "output_type": "stream",
       "stream": "stderr",
       "text": [
        "TCanvas::Constructor:0: RuntimeWarning: Deleting canvas with same name: c\n"
       ]
      }
     ],
     "prompt_number": 33
    },
    {
     "cell_type": "code",
     "collapsed": false,
     "input": [],
     "language": "python",
     "metadata": {},
     "outputs": []
    }
   ],
   "metadata": {}
  }
 ]
}