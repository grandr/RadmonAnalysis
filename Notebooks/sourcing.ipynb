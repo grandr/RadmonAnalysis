{
 "cells": [
  {
   "cell_type": "code",
   "execution_count": 2,
   "metadata": {
    "collapsed": false
   },
   "outputs": [],
   "source": [
    "import ROOT"
   ]
  },
  {
   "cell_type": "raw",
   "metadata": {},
   "source": [
    "******************************************************************************\n",
    "*Tree    :Rate      : RadMon Rates                                           *\n",
    "*Entries :     1440 : Total =          226408 bytes  File  Size =      31497 *\n",
    "*        :          : Tree compression factor =   7.28                       *\n",
    "******************************************************************************\n",
    "*Br    0 :rate      : tstamp/I:period/I:readout/I:status[24]/s:rates[24]/F   *\n",
    "*Entries :     1440 : Total  Size=     226050 bytes  File Size  =      30921 *\n",
    "*Baskets :        8 : Basket Size=      32000 bytes  Compression=   7.28     *\n",
    "*............................................................................*"
   ]
  },
  {
   "cell_type": "code",
   "execution_count": 3,
   "metadata": {
    "collapsed": false
   },
   "outputs": [],
   "source": [
    "#f = ROOT.TFile(\"/afs/cern.ch/work/g/grandr/Bril/Data/Sourcing/run00104_pnxt_5_105.root\")\n",
    "f = ROOT.TFile(\"/home/data/CalibrationData/run00104_pnxt_5_105.root\")\n",
    "t = f.Get(\"Rate\")\n",
    "#t.Print()"
   ]
  },
  {
   "cell_type": "code",
   "execution_count": 8,
   "metadata": {
    "collapsed": false
   },
   "outputs": [],
   "source": [
    "t.Draw(\"rates[0]:tstamp\")"
   ]
  },
  {
   "cell_type": "code",
   "execution_count": 4,
   "metadata": {
    "collapsed": false
   },
   "outputs": [],
   "source": [
    "hp = ROOT.TH2D(\"hp\", \"Rate vs time\", 70, 0., 140.*60, 100, 500., 1000.)\n",
    "t0 = -1000\n",
    "for i in range(0, t.GetEntries()):\n",
    "    nb = t.GetEntry(i)\n",
    "    if nb < 0:\n",
    "        continue    \n",
    "    if t0 < 0:\n",
    "        t0 = t.tstamp\n",
    "    hp.Fill(t.tstamp-t0, t.rates[0])\n",
    "pp = hp.ProfileX()\n",
    "pp.SetMinimum(600)"
   ]
  },
  {
   "cell_type": "code",
   "execution_count": 5,
   "metadata": {
    "collapsed": false
   },
   "outputs": [],
   "source": [
    "c = ROOT.TCanvas('c', '', 800, 600)\n",
    "ROOT.gStyle.SetOptStat(0)\n",
    "pp.Draw()"
   ]
  },
  {
   "cell_type": "code",
   "execution_count": null,
   "metadata": {
    "collapsed": false
   },
   "outputs": [],
   "source": []
  }
 ],
 "metadata": {
  "kernelspec": {
   "display_name": "Python 2",
   "language": "python",
   "name": "python2"
  },
  "language_info": {
   "codemirror_mode": {
    "name": "ipython",
    "version": 2
   },
   "file_extension": ".py",
   "mimetype": "text/x-python",
   "name": "python",
   "nbconvert_exporter": "python",
   "pygments_lexer": "ipython2",
   "version": "2.7.10"
  }
 },
 "nbformat": 4,
 "nbformat_minor": 0
}
