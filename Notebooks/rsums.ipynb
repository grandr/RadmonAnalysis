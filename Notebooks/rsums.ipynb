{
 "metadata": {
  "name": "rsums"
 },
 "nbformat": 3,
 "nbformat_minor": 0,
 "worksheets": [
  {
   "cells": [
    {
     "cell_type": "code",
     "collapsed": false,
     "input": [
      "import ROOT"
     ],
     "language": "python",
     "metadata": {},
     "outputs": [],
     "prompt_number": 1
    },
    {
     "cell_type": "raw",
     "metadata": {},
     "source": [
      "******************************************************************************\n",
      "*Tree    :t         : Radmon rates + runnning sums                           *\n",
      "*Entries :    83545 : Total =        51955948 bytes  File  Size =   24945913 *\n",
      "*        :          : Tree compression factor =   2.08                       *\n",
      "******************************************************************************\n",
      "*Br    0 :fillBranchI : fill/I:fillStart/I:fillColl/I:fillStable/I:fillEnd/I:*\n",
      "*         | durationStable/I                                                 *\n",
      "*Entries :    83545 : Total  Size=    2011841 bytes  File Size  =      19687 *\n",
      "*Baskets :       63 : Basket Size=      32000 bytes  Compression= 102.09     *\n",
      "*............................................................................*\n",
      "*Br    1 :fillBranchD : bField/D:beamEnergy/D                                *\n",
      "*Entries :    83545 : Total  Size=    1341126 bytes  File Size  =      13334 *\n",
      "*Baskets :       42 : Basket Size=      32000 bytes  Compression= 100.49     *\n",
      "*............................................................................*\n",
      "*Br    2 :radmonBranchI : tstamp/I:status[16]/I                              *\n",
      "*Entries :    83545 : Total  Size=    5698821 bytes  File Size  =     243496 *\n",
      "*Baskets :      179 : Basket Size=      32000 bytes  Compression=  23.39     *\n",
      "*............................................................................*\n",
      "*Br    3 :radmonRates : rates[16]/D:rsums15[16]/D:rsums30[16]/D:rsums60[16]/D*\n",
      "*Entries :    83545 : Total  Size=   42903728 bytes  File Size  =   24654715 *\n",
      "*Baskets :     1348 : Basket Size=      32000 bytes  Compression=   1.74     *\n",
      "*............................................................................*\n"
     ]
    },
    {
     "cell_type": "code",
     "collapsed": false,
     "input": [
      "f = ROOT.TFile(\"/afs/cern.ch/work/g/grandr/Bril/Data/RadMonData/RadmonFillsRunningSums/radmonSums4538.root\")\n",
      "t = f.Get('t')"
     ],
     "language": "python",
     "metadata": {},
     "outputs": [],
     "prompt_number": 3
    },
    {
     "cell_type": "code",
     "collapsed": false,
     "input": [
      "hrate = ROOT.TH2D(\"hrate\", \"PFIB Rate, Fill 4538\", 10000, -2000, 95000, 1000, 0., 15000.) \n",
      "hrsum15 = ROOT.TH2D(\"hrsum15\", \"Running sum PFIB 15 minutes, Fill 4538\", 10000, -2000, 95000, 1000, 0., 15000.)\n",
      "hrsum30 = ROOT.TH2D(\"hrsum30\", \"Running sum PFIB 30 minutes, Fill 4538\", 10000, -2000, 95000, 1000, 0., 15000.)\n",
      "hrsum60 = ROOT.TH2D(\"hrsum60\", \"Running sum PFIB 60 minutes, Fill 4538\", 10000, -2000, 95000, 1000, 0., 15000.)\n",
      "t.Draw(\"rates[5]:tstamp-fillColl>>hrate\")\n",
      "t.Draw(\"rsums15[5]:tstamp-fillColl>>hrsum15\")\n",
      "t.Draw(\"rsums30[5]:tstamp-fillColl>>hrsum30\")\n",
      "t.Draw(\"rsums60[5]:tstamp-fillColl>>hrsum60\")"
     ],
     "language": "python",
     "metadata": {},
     "outputs": [
      {
       "output_type": "stream",
       "stream": "stderr",
       "text": [
        "TFile::Append:0: RuntimeWarning: Replacing existing TH1: hrate (Potential memory leak).\n",
        "TFile::Append:0: RuntimeWarning: Replacing existing TH1: hrsum15 (Potential memory leak).\n"
       ]
      }
     ],
     "prompt_number": 39
    },
    {
     "cell_type": "code",
     "collapsed": false,
     "input": [
      "# Draw 4\n",
      "c = ROOT.TCanvas('c', '', 1200, 800)\n",
      "c.Divide(2,2)\n",
      "c.cd(1)\n",
      "hrate.Draw()\n",
      "c.cd(2)\n",
      "hrsum15.Draw()\n",
      "c.cd(3)\n",
      "hrsum30.Draw()\n",
      "c.cd(4)\n",
      "hrsum60.Draw()"
     ],
     "language": "python",
     "metadata": {},
     "outputs": [
      {
       "output_type": "stream",
       "stream": "stderr",
       "text": [
        "TCanvas::Constructor:0: RuntimeWarning: Deleting canvas with same name: c\n"
       ]
      }
     ],
     "prompt_number": 41
    },
    {
     "cell_type": "code",
     "collapsed": false,
     "input": [
      "hrate.Delete()"
     ],
     "language": "python",
     "metadata": {},
     "outputs": [],
     "prompt_number": 28
    },
    {
     "cell_type": "code",
     "collapsed": false,
     "input": [],
     "language": "python",
     "metadata": {},
     "outputs": []
    }
   ],
   "metadata": {}
  }
 ]
}