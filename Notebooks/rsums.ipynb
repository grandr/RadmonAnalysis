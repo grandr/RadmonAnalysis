{
 "cells": [
  {
   "cell_type": "code",
   "execution_count": 2,
   "metadata": {
    "collapsed": false
   },
   "outputs": [],
   "source": [
    "import ROOT"
   ]
  },
  {
   "cell_type": "raw",
   "metadata": {},
   "source": [
    "******************************************************************************\n",
    "*Tree    :t         : Radmon rates + runnning sums                           *\n",
    "*Entries :    83545 : Total =        51955948 bytes  File  Size =   24945913 *\n",
    "*        :          : Tree compression factor =   2.08                       *\n",
    "******************************************************************************\n",
    "*Br    0 :fillBranchI : fill/I:fillStart/I:fillColl/I:fillStable/I:fillEnd/I:*\n",
    "*         | durationStable/I                                                 *\n",
    "*Entries :    83545 : Total  Size=    2011841 bytes  File Size  =      19687 *\n",
    "*Baskets :       63 : Basket Size=      32000 bytes  Compression= 102.09     *\n",
    "*............................................................................*\n",
    "*Br    1 :fillBranchD : bField/D:beamEnergy/D                                *\n",
    "*Entries :    83545 : Total  Size=    1341126 bytes  File Size  =      13334 *\n",
    "*Baskets :       42 : Basket Size=      32000 bytes  Compression= 100.49     *\n",
    "*............................................................................*\n",
    "*Br    2 :radmonBranchI : tstamp/I:status[16]/I                              *\n",
    "*Entries :    83545 : Total  Size=    5698821 bytes  File Size  =     243496 *\n",
    "*Baskets :      179 : Basket Size=      32000 bytes  Compression=  23.39     *\n",
    "*............................................................................*\n",
    "*Br    3 :radmonRates : rates[16]/D:rsums15[16]/D:rsums30[16]/D:rsums60[16]/D*\n",
    "*Entries :    83545 : Total  Size=   42903728 bytes  File Size  =   24654715 *\n",
    "*Baskets :     1348 : Basket Size=      32000 bytes  Compression=   1.74     *\n",
    "*............................................................................*\n",
    "http://lxplus0065.cern.ch:8888/"
   ]
  },
  {
   "cell_type": "code",
   "execution_count": 3,
   "metadata": {
    "collapsed": false
   },
   "outputs": [],
   "source": [
    "fill = 4538\n",
    "#filePattern = \"/afs/cern.ch/work/g/grandr/Bril/Data/RadMonData/RadmonFillsRunningSums/radmonSums__XXX__.root\"\n",
    "filePattern = \"/home/data/RadMonData/RadmonFillsRunningSums/radmonSums__XXX__.root\"\n",
    "f = ROOT.TFile(filePattern.replace(\"__XXX__\", str(fill)))\n",
    "t = f.Get('t')"
   ]
  },
  {
   "cell_type": "code",
   "execution_count": 4,
   "metadata": {
    "collapsed": false
   },
   "outputs": [],
   "source": [
    "#ymax = 800 #Fill 4205\n",
    "#xmax = 40000 #Fill 4205\n",
    "ymax = 15000 # Fill 4538\n",
    "xmax = 95000 # Fill 4538\n",
    "hrate = ROOT.TH2D(\"hrate\", \"PFIB Rate, Fill  \" + str(fill), 10000, -2000, xmax, 1000, 0., ymax) \n",
    "hrsum15 = ROOT.TH2D(\"hrsum15\", \"Running sum PFIB 15 minutes, Fill \" + str(fill), 10000, -2000, xmax, 1000, 0., ymax)\n",
    "hrsum30 = ROOT.TH2D(\"hrsum30\", \"Running sum PFIB 30 minutes, Fill \" + str(fill), 10000, -2000, xmax, 1000, 0., ymax)\n",
    "hrsum60 = ROOT.TH2D(\"hrsum60\", \"Running sum PFIB 60 minutes, Fill \" + str(fill), 10000, -2000, xmax, 1000, 0., ymax)\n",
    "hrate.GetXaxis().SetTitle(\"t-tColl\")\n",
    "hrsum15.GetXaxis().SetTitle(\"t-tColl\")\n",
    "hrsum30.GetXaxis().SetTitle(\"t-tColl\")\n",
    "hrsum60.GetXaxis().SetTitle(\"t-tColl\")\n",
    "t.Draw(\"rates[5]:tstamp-fillColl>>hrate\")\n",
    "t.Draw(\"rsums15[5]:tstamp-fillColl>>hrsum15\")\n",
    "t.Draw(\"rsums30[5]:tstamp-fillColl>>hrsum30\")\n",
    "t.Draw(\"rsums60[5]:tstamp-fillColl>>hrsum60\")"
   ]
  },
  {
   "cell_type": "code",
   "execution_count": 5,
   "metadata": {
    "collapsed": false
   },
   "outputs": [],
   "source": [
    "# Draw 4\n",
    "c = ROOT.TCanvas('c', '', 800, 600)\n",
    "c.Divide(2,2)\n",
    "c.cd(1)\n",
    "hrate.Draw()\n",
    "c.cd(2)\n",
    "hrsum15.Draw()\n",
    "c.cd(3)\n",
    "hrsum30.Draw()\n",
    "c.cd(4)\n",
    "hrsum60.Draw()"
   ]
  },
  {
   "cell_type": "code",
   "execution_count": 6,
   "metadata": {
    "collapsed": false
   },
   "outputs": [
    {
     "data": {
      "text/plain": [
       "<ROOT.TFitResultPtr object at 0x55fe49d90a80>"
      ]
     },
     "execution_count": 6,
     "metadata": {},
     "output_type": "execute_result"
    }
   ],
   "source": [
    "hr15 = ROOT.TH2D(\"hr15\", \"rsum/rate PFIB 15 minutes, Fill \" + str(fill), 10000, -200, 15000, 100, 0., 1.3)\n",
    "hr15.GetXaxis().SetTitle(\"t-tColl\")\n",
    "hr30 = ROOT.TH2D(\"hr30\", \"rsum/rate PFIB 30 minutes, Fill \" + str(fill), 10000, -200, 15000, 100, 0., 1.3)\n",
    "hr30.GetXaxis().SetTitle(\"t-tColl\")\n",
    "hr60 = ROOT.TH2D(\"hr60\", \"rsum/rate PFIB 60 minutes, Fill \" + str(fill), 10000, -200, 15000, 100, 0., 1.3)\n",
    "hr60.GetXaxis().SetTitle(\"t-tColl\")\n",
    "t.Draw(\"rsums15[5]/rates[5]:tstamp-fillColl>>hr15\")\n",
    "t.Draw(\"rsums30[5]/rates[5]:tstamp-fillColl>>hr30\")\n",
    "t.Draw(\"rsums60[5]/rates[5]:tstamp-fillColl>>hr60\")\n",
    "#Fit\n",
    "func = ROOT.TF1('func', '[0]*(1-([1]*exp(-1*x/[2] )))', 0., 14400.)\n",
    "func.SetParameters(1., 1., 1500)\n",
    "hr15.Fit('func', \"CROBFS\", \"\", 0., 14400.)\n",
    "hr30.Fit('func', \"CROBFS\", \"\", 0., 14400.)\n",
    "hr60.Fit('func', \"CROBFS\", \"\", 0., 14400.)"
   ]
  },
  {
   "cell_type": "code",
   "execution_count": 7,
   "metadata": {
    "collapsed": false
   },
   "outputs": [],
   "source": [
    "# Draw fit results\n",
    "ROOT.gStyle.SetOptFit(11111)\n",
    "ROOT.gStyle.SetOptStat(0)\n",
    "c = ROOT.TCanvas('c', '', 600, 800)\n",
    "c.Divide(1,3)\n",
    "c.cd(1)\n",
    "hr15.Draw()\n",
    "c.cd(2)\n",
    "hr30.Draw()\n",
    "c.cd(3)\n",
    "hr60.Draw()"
   ]
  },
  {
   "cell_type": "code",
   "execution_count": 50,
   "metadata": {
    "collapsed": false
   },
   "outputs": [],
   "source": [
    "t.Draw(\"rsums60[5]:tstamp-fillColl\")"
   ]
  },
  {
   "cell_type": "code",
   "execution_count": 58,
   "metadata": {
    "collapsed": false
   },
   "outputs": [],
   "source": [
    "hrate.Delete()"
   ]
  },
  {
   "cell_type": "code",
   "execution_count": null,
   "metadata": {
    "collapsed": false
   },
   "outputs": [],
   "source": []
  }
 ],
 "metadata": {
  "kernelspec": {
   "display_name": "Python 2",
   "language": "python",
   "name": "python2"
  },
  "language_info": {
   "codemirror_mode": {
    "name": "ipython",
    "version": 2
   },
   "file_extension": ".py",
   "mimetype": "text/x-python",
   "name": "python",
   "nbconvert_exporter": "python",
   "pygments_lexer": "ipython2",
   "version": "2.7.10"
  }
 },
 "nbformat": 4,
 "nbformat_minor": 0
}
