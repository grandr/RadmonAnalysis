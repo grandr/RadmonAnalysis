{
 "cells": [
  {
   "cell_type": "code",
   "execution_count": 2,
   "metadata": {
    "collapsed": false
   },
   "outputs": [],
   "source": [
    "import os, sys\n",
    "import tables\n",
    "import numpy as np\n",
    "import datetime as dt\n",
    "import time\n",
    "import ROOT"
   ]
  },
  {
   "cell_type": "code",
   "execution_count": 3,
   "metadata": {
    "collapsed": false
   },
   "outputs": [],
   "source": [
    "# Fill 4794\n",
    "# f = tables.open_file(\n",
    "#     \"/home/data/RadMonData/RadmonHd5/dev/fe5c639c-cf31-4455-9273-3406e0646f76_1604122331_0.hd5\")\n",
    "# Fill 4794\n",
    "# f = tables.open_file(\n",
    "#     \"/home/data/RadMonData/RadmonHd5/dev/8a32a136-45d9-4a91-9a47-27a800f2b6be_1604110717_0.hd5\")\n",
    "#Fill 4828\n",
    "f = tables.open_file(\n",
    "    \"/home/data/RadMonData/RadmonHd5/2016/1fe845c9-7fb9-4c23-98a2-b74e668c3527_1604191717_0.hd5\")"
   ]
  },
  {
   "cell_type": "code",
   "execution_count": 4,
   "metadata": {
    "collapsed": false
   },
   "outputs": [],
   "source": [
    "## Plotting lumi\n",
    "gMinusZ = ROOT.TGraph()\n",
    "gPlusZ = ROOT.TGraph()\n",
    "gPlusZ.SetMarkerStyle(8)\n",
    "gMinusZ.SetMarkerStyle(8)\n",
    "\n",
    "fillno = 0\n",
    "# Everything\n",
    "dateTimeStart = '2016-01-01 09:50'\n",
    "dateTimeEnd = '2016-12-31 13:40'\n",
    "\n",
    "#Fill 4787\n",
    "# dateTimeStart = '2016-04-11 09:30'\n",
    "# dateTimeEnd = '2016-04-11 14:00'\n",
    "\n",
    "#VDM Fill 4787\n",
    "# dateTimeStart = '2016-04-11 13:05'\n",
    "# dateTimeEnd = '2016-04-11 13:20'\n",
    "\n",
    "tsStart = time.mktime(dt.datetime.strptime(dateTimeStart, \"%Y-%m-%d %H:%M\").timetuple())\n",
    "tsEnd = time.mktime(dt.datetime.strptime(dateTimeEnd, \"%Y-%m-%d %H:%M\").timetuple())\n",
    "\n",
    "for leaf in f.walk_nodes(where='/',classname=\"Leaf\"):\n",
    "    if leaf.name == 'radmonlumi':\n",
    "        data =  f.get_node(where='/',name=\"radmonlumi\", classname=\"Leaf\")\n",
    "        timestamps = []\n",
    "        minusz = []\n",
    "        plusz = []\n",
    "        for item in data:\n",
    "            ts = item['timestampsec']\n",
    "            if ts > tsStart and ts < tsEnd:\n",
    "                \n",
    "                nm = gMinusZ.GetN()\n",
    "                gMinusZ.SetPoint(nm, float(ts), float(item['minusz']))\n",
    "                \n",
    "                np = gPlusZ.GetN()\n",
    "                gPlusZ.SetPoint(np, float(ts), float(item['plusz']))\n",
    "\n",
    "                fillno = item['fillnum']\n",
    "        \n",
    "## Draw\n",
    "ROOT.gStyle.SetTitleSize(0.07)\n",
    "c = ROOT.TCanvas(\"cp\", \"Lumi, Fill \" +   str(fillno) , 800, 600)\n",
    "c.Divide(1,2)\n",
    "c.cd(1)\n",
    "gPlusZ.Draw(\"AL\")\n",
    "c.cd(2)\n",
    "gMinusZ.Draw(\"AL\")\n",
    "# gPlusZ.GetXaxis().SetTimeFormat(\"%m-%d %H:%M\")\n",
    "# gMinusZ.GetXaxis().SetTimeFormat(\"%m-%d %H:%M\")\n",
    "gPlusZ.GetXaxis().SetTimeFormat(\"%H:%M\")\n",
    "gMinusZ.GetXaxis().SetTimeFormat(\"%H:%M\")\n",
    "gPlusZ.GetXaxis().SetTimeDisplay(1)\n",
    "gMinusZ.GetXaxis().SetTimeDisplay(1)    \n",
    "\n",
    "gMinusZ.SetLineColor(ROOT.kBlue)\n",
    "\n",
    "# gMinusZ.GetXaxis().SetTitle(\"time\")\n",
    "# gPlusZ.GetXaxis().SetTitle(\"time\")\n",
    "# gMinusZ.GetXaxis().SetTitleOffset(0.1)\n",
    "# gPlusZ.GetXaxis().SetTitleOffset(0.1)\n",
    "\n",
    "gMinusZ.SetTitle(\"-Z Lumi, Fill \" + str(fillno) )\n",
    "gPlusZ.SetTitle(\"+Z Lumi, Fill \" + str(fillno) )\n",
    "\n",
    "gMinusZ.GetXaxis().SetLabelSize(0.055)\n",
    "gMinusZ.GetYaxis().SetLabelSize(0.055)\n",
    "gPlusZ.GetXaxis().SetLabelSize(0.055)\n",
    "gPlusZ.GetYaxis().SetLabelSize(0.055)\n",
    "\n",
    "\n",
    "c.Update()"
   ]
  },
  {
   "cell_type": "code",
   "execution_count": 6,
   "metadata": {
    "collapsed": false
   },
   "outputs": [
    {
     "name": "stderr",
     "output_type": "stream",
     "text": [
      "TCanvas::Constructor:0: RuntimeWarning: Deleting canvas with same name: cp\n"
     ]
    }
   ],
   "source": [
    "##Plot lumi/rms for +z and -Z\n",
    "nbins = 100\n",
    "\n",
    "hm = ROOT.TH1F(\"hm\", \"Lumi/RMS -Z\", nbins, 0., 1.)\n",
    "hp = ROOT.TH1F(\"hp\", \"Lumi/RMS +Z\", nbins, 0., 1.)\n",
    "fillNo = 0\n",
    "# dateTimeStart = '2016-04-13 02:50'\n",
    "# dateTimeEnd = '2016-04-13 08:20'\n",
    "dateTimeStart = '2016-04-01 09:50'\n",
    "dateTimeEnd = '2016-12-31 13:40'\n",
    "\n",
    "\n",
    "tsStart = time.mktime(dt.datetime.strptime(dateTimeStart, \"%Y-%m-%d %H:%M\").timetuple())\n",
    "tsEnd = time.mktime(dt.datetime.strptime(dateTimeEnd, \"%Y-%m-%d %H:%M\").timetuple())\n",
    "\n",
    "for leaf in f.walk_nodes(where='/',classname=\"Leaf\"):\n",
    "    if leaf.name == 'radmonlumi':\n",
    "        data =  f.get_node(where='/',name=\"radmonlumi\", classname=\"Leaf\")\n",
    "        timestamps = []\n",
    "        minusz = []\n",
    "        plusz = []\n",
    "        for item in data:\n",
    "            ts = item['timestampsec']\n",
    "            if ts > tsStart and ts < tsEnd:\n",
    "                \n",
    "                if (item['minusz'] > 0.):\n",
    "                    hm.Fill(item['minuszrms']/item['minusz'])\n",
    "                if (item['plusz'] > 0.):\n",
    "                    hp.Fill(item['pluszrms']/item['plusz'])\n",
    "\n",
    "## Draw\n",
    "c = ROOT.TCanvas(\"cp\", \"Lumi/RMS, Fill \" +   str(fillno) , 800, 800)\n",
    "c.Divide(1,2)\n",
    "c.cd(1)\n",
    "hm.Draw()\n",
    "c.cd(2)\n",
    "hp.Draw()\n"
   ]
  },
  {
   "cell_type": "code",
   "execution_count": null,
   "metadata": {
    "collapsed": true
   },
   "outputs": [],
   "source": [
    "#Plotting flux\n"
   ]
  }
 ],
 "metadata": {
  "kernelspec": {
   "display_name": "Python 2",
   "language": "python",
   "name": "python2"
  },
  "language_info": {
   "codemirror_mode": {
    "name": "ipython",
    "version": 2
   },
   "file_extension": ".py",
   "mimetype": "text/x-python",
   "name": "python",
   "nbconvert_exporter": "python",
   "pygments_lexer": "ipython2",
   "version": "2.7.11"
  }
 },
 "nbformat": 4,
 "nbformat_minor": 0
}
