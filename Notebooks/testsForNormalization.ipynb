{
 "cells": [
  {
   "cell_type": "code",
   "execution_count": 2,
   "metadata": {
    "collapsed": false
   },
   "outputs": [],
   "source": [
    "import os, sys\n",
    "import ROOT\n",
    "sys.path.append(\"../Utils/\")\n",
    "sys.path.append(\"../Config/\")\n",
    "from xconfig import *\n",
    "from fillReport import *\n",
    "import xutils\n",
    "import math\n",
    "\n",
    "\n",
    "#Get detector info (index, detector No, calib factor)\n",
    "cfg = Config('../Config/detectors.ini')\n",
    "dummy = cfg.get_option('Detectors')\n",
    "detInfo = {}\n",
    "for key in dummy.keys():\n",
    "    detInfo[key] = dummy[key].split()\n",
    "\n",
    "fillReport = FillReport(\"../Config/FillReport.xls\")"
   ]
  },
  {
   "cell_type": "markdown",
   "metadata": {},
   "source": [
    "###TChain for Offline lumi combined"
   ]
  },
  {
   "cell_type": "code",
   "execution_count": 29,
   "metadata": {
    "collapsed": true
   },
   "outputs": [],
   "source": [
    "t = ROOT.TChain(\"t\")\n",
    "t.Add(\"/scr1/RadMonLumi/2016/OfflineLumi/Radmon_normtag_BRIL/*root\");\n",
    "warm = ROOT.TCut(\"tstamp - fillStable>60*60\")\n",
    "stable = ROOT.TCut(\"beamStatus == \\\"STABLE BEAMS\\\"\")\n",
    "hfoc = ROOT.TCut(\"lumiSource==\\\"HFOC\\\"\")\n",
    "plt = ROOT.TCut(\"lumiSource==\\\"PLTZERO\\\"\")\n",
    "ratio = ROOT.TCut(\"lumi/rates[12] > 0 && lumi/rates[12]<3\")\n",
    "\n",
    "#Cuts\n",
    "deltaWarming = 60*60\n"
   ]
  },
  {
   "cell_type": "raw",
   "metadata": {},
   "source": [
    "# *Br    0 :radmonLumiI : fill/I:fillStart/I:fillStable/I:fillEnd/I:           *\n",
    "*         | durationStable/I:run/I:lsNo/I:tstamp/I                           *\n",
    "*Entries :        0 : Total  Size=       1105 bytes  One basket in memory    *\n",
    "*Baskets :        0 : Basket Size=      32000 bytes  Compression=   1.00     *\n",
    "*............................................................................*\n",
    "*Br    1 :radmonLumiD : bField/D:beamEnergy/D:lumi/D:rates[16]/D:            *\n",
    "*         | drates[16]/D:nibbles[16]/D                                       *\n",
    "*Entries :        0 : Total  Size=        986 bytes  One basket in memory    *\n",
    "*Baskets :        0 : Basket Size=      32000 bytes  Compression=   1.00     *\n",
    "*............................................................................*\n",
    "*Br    2 :BeamStatus : beamStatus/C                                          *\n",
    "*Entries :        0 : Total  Size=        494 bytes  One basket in memory    *\n",
    "*Baskets :        0 : Basket Size=      32000 bytes  Compression=   1.00     *\n",
    "*............................................................................*\n",
    "*Br    3 :LumiSource : lumiSource/C                                          *\n",
    "*Entries :        0 : Total  Size=        494 bytes  One basket in memory    *\n",
    "*Baskets :        0 : Basket Size=      32000 bytes  Compression=   1.00     *\n"
   ]
  },
  {
   "cell_type": "markdown",
   "metadata": {},
   "source": [
    "###TChain for Online lumi combined"
   ]
  },
  {
   "cell_type": "code",
   "execution_count": 3,
   "metadata": {
    "collapsed": false
   },
   "outputs": [],
   "source": [
    "t = ROOT.TChain(\"t\")\n",
    "t.Add(\"/scr1/RadMonLumi/2016/OnlineLumi/RadmonLumiFills/*.root\");\n",
    "stable = ROOT.TCut(\"tstamp>fillStable&&tstamp<fillEnd\")\n",
    "deltaWarming = 60*60"
   ]
  },
  {
   "cell_type": "raw",
   "metadata": {},
   "source": [
    "*Br    0 :fillBranch : fill/I:fillStart/I:fillStable/I:fillEnd/I:            *\n",
    "*         | durationStable/I:run/I:lsNo/I:tstamp/I:msecs/I:bunchSpacing/I    *\n",
    "*Entries :     1798 : Total  Size=      73431 bytes  File Size  =       5296 *\n",
    "*Baskets :        3 : Basket Size=      32000 bytes  Compression=  13.62     *\n",
    "*............................................................................*\n",
    "*Br    1 :fillBranchD : bField/D:beamEnergy/D                                *\n",
    "*Entries :     1798 : Total  Size=      29439 bytes  File Size  =        299 *\n",
    "*Baskets :        1 : Basket Size=      32000 bytes  Compression=  96.46     *\n",
    "*............................................................................*\n",
    "*Br    2 :lumiBranch : bestLumi/D:bestLumiErr/D:hfLumi/D:hfLumiErr/D:        *\n",
    "*         | pltLumi/D:pltLumiErr/D:pltZeroLumi/D:pltZeroLumiErr/D:bcmfLumi/D:*\n",
    "*         | bcmfLumiErr/D                                                    *\n",
    "*Entries :     1798 : Total  Size=     145642 bytes  File Size  =      38012 *\n",
    "*Baskets :        5 : Basket Size=      32000 bytes  Compression=   3.79     *\n",
    "*............................................................................*\n",
    "*Br    3 :radmonBranch : rates[16]/D:ratesErr[16]/D                          *\n",
    "*Entries :     1798 : Total  Size=     462152 bytes  File Size  =       3636 *\n",
    "*Baskets :       15 : Basket Size=      32000 bytes  Compression= 126.91     *\n",
    "*............................................................................*\n"
   ]
  },
  {
   "cell_type": "markdown",
   "metadata": {},
   "source": [
    "###Ratio of the rates to one reference detector "
   ]
  },
  {
   "cell_type": "code",
   "execution_count": 9,
   "metadata": {
    "collapsed": false
   },
   "outputs": [],
   "source": [
    "fillsRange = [4850, 5250]\n",
    "detRef = \"PNIB\"\n",
    "indRef = int(detInfo[detRef.lower()][0])\n",
    "dets = [\"PFXT\", \"PFIB\", \"PFIT\", \"PNXT\", \"PNIB\", \"PNIT\", \"MFXT\", \"MFIB\", \"MFIT\", \n",
    "        \"MNXT\", \"MNIB\", \"MNIT\"]\n",
    "histos = {}\n",
    "for det in dets:\n",
    "    try:\n",
    "        del histos[det]\n",
    "    except:\n",
    "        pass\n",
    "    histos[det] = ROOT.TH2D(det, det.upper() + \"/\" + detRef.upper(),\n",
    "                  (fillsRange[1] - fillsRange[0]), fillsRange[0], fillsRange[1], 1000, 0., 3.)\n",
    "\n",
    "# Filling\n",
    "for i in range(0, t.GetEntries()) :\n",
    "    nb = t.GetEntry(i)\n",
    "    if nb < 0:\n",
    "        continue\n",
    "    \n",
    "    \n",
    "#     if t.beamStatus[0:12] != \"STABLE BEAMS\":\n",
    "#         continue\n",
    "    if t.tstamp > t.fillEnd:\n",
    "        continue\n",
    "    if t.tstamp - t.fillStable < deltaWarming:\n",
    "        continue\n",
    "    \n",
    "#     if i > 10000:    break\n",
    "        \n",
    "    for det in dets:\n",
    "        index = int(detInfo[det.lower()][0])\n",
    "        if t.rates[index>0] and t.rates[indRef] > 0.:\n",
    "            histos[det].Fill(t.fill, t.rates[index]/t.rates[indRef] )\n",
    "\n",
    "profx = {}\n",
    "for det in dets:\n",
    "    try:\n",
    "        profx[det].Delete()\n",
    "    except:\n",
    "        pass\n",
    "    profx[det] = histos[det].ProfileX(det.lower()+\"x\", 1, -1, \"s\")\n",
    "    profx[det].SetTitle(histos[det].GetTitle())\n"
   ]
  },
  {
   "cell_type": "markdown",
   "metadata": {},
   "source": [
    "### Who is to blame for the drift (Ratio to the average of selected detectors)"
   ]
  },
  {
   "cell_type": "code",
   "execution_count": 3,
   "metadata": {
    "collapsed": false
   },
   "outputs": [],
   "source": [
    "fillsRange = [4850, 5250]\n",
    "detRef = [\"PFIT\", \"PFIB\", \"PNIT\", \"PNIB\", \"MNIB\", \"MNIT\"]\n",
    "dets = [\"PFXT\", \"PFIB\", \"PFIT\", \"PNXT\", \"PNIB\", \"PNIT\", \"MFXT\", \"MFIB\", \"MFIT\", \n",
    "        \"MNXT\", \"MNIB\", \"MNIT\"]\n",
    "histos = {}\n",
    "for det in dets:\n",
    "    try:\n",
    "        del histos[det]\n",
    "    except:\n",
    "        pass\n",
    "    histos[det] = ROOT.TH2D(det, det.upper() + \"/(\" + \"+\".join(detRef) + \")\",\n",
    "                  (fillsRange[1] - fillsRange[0]), fillsRange[0], fillsRange[1], 1000, 0., 3.)\n",
    "\n",
    "# Filling\n",
    "for i in range(0, t.GetEntries()) :\n",
    "    nb = t.GetEntry(i)\n",
    "    if nb < 0:\n",
    "        continue\n",
    "    \n",
    "    \n",
    "#     if t.beamStatus[0:12] != \"STABLE BEAMS\":\n",
    "#         continue\n",
    "    if t.tstamp > t.fillEnd:\n",
    "        continue\n",
    "    if t.tstamp - t.fillStable < deltaWarming:\n",
    "        continue\n",
    "    \n",
    "#     if i > 10000:    break\n",
    "\n",
    "    averef = 0\n",
    "    nref = 0\n",
    "    for ref in detRef:\n",
    "        indRef = int(detInfo[ref.lower()][0])\n",
    "        cfRef = float(detInfo[ref.lower()][2])\n",
    "        if t.rates[indRef] > 0:\n",
    "            averef += t.rates[indRef] * cfRef\n",
    "            nref += 1\n",
    "    if nref > 0:\n",
    "        averef /= nref\n",
    "        \n",
    "    for det in dets:\n",
    "        index = int(detInfo[det.lower()][0])\n",
    "        cf = float(detInfo[det.lower()][2])\n",
    "\n",
    "        value = 0.\n",
    "        \n",
    "        if averef > 0:    value = t.rates[index] * cf / averef\n",
    "        histos[det].Fill(t.fill, value)\n",
    "\n",
    "profx = {}\n",
    "for det in dets:\n",
    "    try:\n",
    "        profx[det].Delete()\n",
    "    except:\n",
    "        pass\n",
    "    profx[det] = histos[det].ProfileX(det.lower()+\"x\", 1, -1, \"s\")\n",
    "    profx[det].SetTitle(histos[det].GetTitle())\n"
   ]
  },
  {
   "cell_type": "markdown",
   "metadata": {},
   "source": [
    "###Who is to blame for the drift (Ratio to the average of selected detectors) vs TIMESTAMP (huge memory consumption - no need to use)"
   ]
  },
  {
   "cell_type": "code",
   "execution_count": 126,
   "metadata": {
    "collapsed": false
   },
   "outputs": [],
   "source": [
    "fillsRange = [4890, 5247]\n",
    "\n",
    "tstart = fillReport.getFillStableTime(fillsRange[0])\n",
    "tsend = fillReport.getFillEndTime(fillsRange[1])\n",
    "secsPerBin = 230\n",
    "nbins = int((tsend - tstart)/secsPerBin)\n",
    "\n",
    "detRef = [\"PFIT\", \"PFIB\", \"PNIT\", \"PNIB\", \"MNIB\", \"MNIT\"]\n",
    "dets = [\"PFXT\", \"PFIB\", \"PFIT\", \"PNXT\", \"PNIB\", \"PNIT\", \"MFXT\", \"MFIB\", \"MFIT\", \n",
    "        \"MNXT\", \"MNIB\", \"MNIT\"]\n",
    "histos = {}\n",
    "for det in dets:\n",
    "    try:\n",
    "        del histos[det]\n",
    "    except:\n",
    "        pass\n",
    "    histos[det] = ROOT.TH2D(det, det.upper() + \"/(\" + \"+\".join(detRef) + \")\",\n",
    "                  nbins, tstart, tsend, 1000, 0., 3.)\n",
    "\n",
    "# Filling\n",
    "for i in range(0, t.GetEntries()) :\n",
    "    nb = t.GetEntry(i)\n",
    "    if nb < 0:\n",
    "        continue\n",
    "    \n",
    "    \n",
    "#     if t.beamStatus[0:12] != \"STABLE BEAMS\":\n",
    "#         continue\n",
    "    if t.tstamp > t.fillEnd:\n",
    "        continue\n",
    "    if t.tstamp - t.fillStable < deltaWarming:\n",
    "        continue\n",
    "    \n",
    "#     if i > 10000:    break\n",
    "\n",
    "    averef = 0\n",
    "    nref = 0\n",
    "    for ref in detRef:\n",
    "        indRef = int(detInfo[ref.lower()][0])\n",
    "        cfRef = float(detInfo[ref.lower()][2])\n",
    "        if t.rates[indRef] > 0:\n",
    "            averef += t.rates[indRef] * cfRef\n",
    "            nref += 1\n",
    "    if nref > 0:\n",
    "        averef /= nref\n",
    "        \n",
    "    for det in dets:\n",
    "        index = int(detInfo[det.lower()][0])\n",
    "        cf = float(detInfo[det.lower()][2])\n",
    "\n",
    "        value = 0.\n",
    "        \n",
    "        if averef > 0:    value = t.rates[index] * cf / averef\n",
    "        histos[det].Fill(t.tstamp, value)\n",
    "\n",
    "profx = {}\n",
    "for det in dets:\n",
    "    try:\n",
    "        profx[det].Delete()\n",
    "    except:\n",
    "        pass\n",
    "    profx[det] = histos[det].ProfileX(det.lower()+\"x\", 1, -1, \"s\")\n",
    "    profx[det].SetTitle(histos[det].GetTitle())\n"
   ]
  },
  {
   "cell_type": "code",
   "execution_count": 14,
   "metadata": {
    "collapsed": false
   },
   "outputs": [
    {
     "name": "stderr",
     "output_type": "stream",
     "text": [
      "TCanvas::Constructor:0: RuntimeWarning: Deleting canvas with same name: c\n"
     ]
    }
   ],
   "source": [
    "c = ROOT.TCanvas(\"c\", \"c\", 800, 800)\n",
    "c.Divide(1,2)\n",
    "detector = \"MFXT\"\n",
    "c.cd(1)\n",
    "histos[detector].Draw()\n",
    "c.cd(2)\n",
    "profx[detector].Draw()"
   ]
  },
  {
   "cell_type": "markdown",
   "metadata": {
    "collapsed": true
   },
   "source": [
    "###Lumi plots (from online data)"
   ]
  },
  {
   "cell_type": "code",
   "execution_count": 4,
   "metadata": {
    "collapsed": false
   },
   "outputs": [
    {
     "data": {
      "text/plain": [
       "180413L"
      ]
     },
     "execution_count": 4,
     "metadata": {},
     "output_type": "execute_result"
    }
   ],
   "source": [
    "t.Draw(\"pltZeroLumi:hfLumi\", stable.GetTitle())"
   ]
  },
  {
   "cell_type": "markdown",
   "metadata": {},
   "source": [
    "###HF pltZero/Lumi vs fillno at stable beam (Online)"
   ]
  },
  {
   "cell_type": "code",
   "execution_count": 24,
   "metadata": {
    "collapsed": false
   },
   "outputs": [
    {
     "name": "stderr",
     "output_type": "stream",
     "text": [
      "TROOT::Append:0: RuntimeWarning: Replacing existing TH1: hlumi (Potential memory leak).\n",
      "TCanvas::Constructor:0: RuntimeWarning: Deleting canvas with same name: c\n"
     ]
    }
   ],
   "source": [
    "fillsRange = [4850, 5250]\n",
    "\n",
    "hlumi = ROOT.TH2D(\"hlumi\", \"Lumi. PltZero/HF vs Fill\",\n",
    "                  (fillsRange[1] -  fillsRange[0]), fillsRange[0], fillsRange[1], 1000, 0., 5.)\n",
    "\n",
    "# Filling\n",
    "for i in range(0, t.GetEntries()) :\n",
    "    nb = t.GetEntry(i)\n",
    "    if nb < 0:\n",
    "        continue\n",
    "    if t.tstamp > t.fillEnd or t.tstamp < t.fillStable:\n",
    "        continue\n",
    "    \n",
    "    if t.fill == 5194:   continue\n",
    "    value = 0.\n",
    "    if t.hfLumi > 0 and t.pltZeroLumi >0:\n",
    "        value = t.pltZeroLumi/t.hfLumi\n",
    "        hlumi.Fill(t.fill, value)\n",
    "        \n",
    "try:\n",
    "    plumi.Delete()\n",
    "except:\n",
    "    pass\n",
    "plumi = hlumi.ProfileX(\"plumi\", 1, -1, \"s\")\n",
    "\n",
    "c = ROOT.TCanvas(\"c\", \"c\", 800, 800)\n",
    "c.Divide(1,2)\n",
    "c.cd(1)\n",
    "hlumi.Draw()\n",
    "c.cd(2)\n",
    "plumi.Draw()\n"
   ]
  },
  {
   "cell_type": "code",
   "execution_count": 25,
   "metadata": {
    "collapsed": false
   },
   "outputs": [
    {
     "name": "stderr",
     "output_type": "stream",
     "text": [
      "TCanvas::Constructor:0: RuntimeWarning: Deleting canvas with same name: c\n"
     ]
    }
   ],
   "source": [
    "\n",
    "c = ROOT.TCanvas(\"c\", \"c\", 800, 800)\n",
    "c.Divide(1,2)\n",
    "c.cd(1)\n",
    "hlumi.Draw()\n",
    "c.cd(2)\n",
    "plumi.Draw()\n"
   ]
  },
  {
   "cell_type": "markdown",
   "metadata": {
    "collapsed": true
   },
   "source": [
    "### Mean neutron fluence vs lumi "
   ]
  },
  {
   "cell_type": "code",
   "execution_count": 5,
   "metadata": {
    "collapsed": false
   },
   "outputs": [
    {
     "ename": "AttributeError",
     "evalue": "'TChain' object has no attribute 'beamStatus'",
     "output_type": "error",
     "traceback": [
      "\u001b[1;31m---------------------------------------------------------------------------\u001b[0m",
      "\u001b[1;31mAttributeError\u001b[0m                            Traceback (most recent call last)",
      "\u001b[1;32m<ipython-input-5-b223bb84b581>\u001b[0m in \u001b[0;36m<module>\u001b[1;34m()\u001b[0m\n\u001b[0;32m     18\u001b[0m \u001b[1;33m\u001b[0m\u001b[0m\n\u001b[0;32m     19\u001b[0m \u001b[1;33m\u001b[0m\u001b[0m\n\u001b[1;32m---> 20\u001b[1;33m     \u001b[1;32mif\u001b[0m \u001b[0mt\u001b[0m\u001b[1;33m.\u001b[0m\u001b[0mbeamStatus\u001b[0m\u001b[1;33m[\u001b[0m\u001b[1;33m:\u001b[0m\u001b[1;33m-\u001b[0m\u001b[1;36m1\u001b[0m\u001b[1;33m]\u001b[0m \u001b[1;33m!=\u001b[0m \u001b[1;34m\"STABLE BEAMS\"\u001b[0m\u001b[1;33m:\u001b[0m\u001b[1;33m\u001b[0m\u001b[0m\n\u001b[0m\u001b[0;32m     21\u001b[0m         \u001b[1;32mcontinue\u001b[0m\u001b[1;33m\u001b[0m\u001b[0m\n\u001b[0;32m     22\u001b[0m     \u001b[1;32mif\u001b[0m \u001b[0mt\u001b[0m\u001b[1;33m.\u001b[0m\u001b[0mtstamp\u001b[0m \u001b[1;33m>\u001b[0m \u001b[0mt\u001b[0m\u001b[1;33m.\u001b[0m\u001b[0mfillEnd\u001b[0m\u001b[1;33m:\u001b[0m\u001b[1;33m\u001b[0m\u001b[0m\n",
      "\u001b[1;31mAttributeError\u001b[0m: 'TChain' object has no attribute 'beamStatus'"
     ]
    }
   ],
   "source": [
    "fillsRange = [4850, 5250]\n",
    "dets = [\"PFIT\", \"PFIB\", \"PNIT\", \"PNIB\", \"MNIB\", \"MNIT\"]\n",
    "\n",
    "nbins = 1000\n",
    "\n",
    "hrfill = ROOT.TH2D(\"hrfill\", \"mean flux over lumi\", \n",
    "                  (fillsRange[1] - fillsRange[0]), fillsRange[0], fillsRange[1], 1000, 0., 7.)\n",
    "hflxlumi = ROOT.TH2D(\"hflxlumi\", \"mean flux vs lumi\", nbins, 0., 15000., nbins, 0., 60000.)\n",
    "hflxplt = ROOT.TH2D(\"hflxplt\", \"mean flux vs PLT ZERO lumi\", nbins, 0., 15000., nbins, 0., 60000.)\n",
    "hflxhf = ROOT.TH2D(\"hflxhf\", \"mean flux vs HFOC lumi\", nbins, 0., 15000., nbins, 0., 60000.)\n",
    "\n",
    "\n",
    "# Filling\n",
    "for i in range(0, t.GetEntries()) :\n",
    "    nb = t.GetEntry(i)\n",
    "    if nb < 0:\n",
    "        continue\n",
    "    \n",
    "    \n",
    "    if t.beamStatus[:-1] != \"STABLE BEAMS\":\n",
    "        continue\n",
    "    if t.tstamp > t.fillEnd:\n",
    "        continue\n",
    "    if t.tstamp - t.fillStable < deltaWarming:\n",
    "        continue\n",
    "    \n",
    "#     if i > 10000:    break\n",
    "\n",
    "    meanflux = 0\n",
    "    ndet = 0\n",
    "    for det in dets:\n",
    "        index = int(detInfo[det.lower()][0])\n",
    "        cf = float(detInfo[det.lower()][2])\n",
    "        if t.rates[index] > 0:\n",
    "            meanflux += t.rates[index] * cf\n",
    "            ndet += 1\n",
    "    if ndet > 0:\n",
    "        meanflux /= ndet\n",
    "    \n",
    "    if t.lumi > 0:\n",
    "        hrfill.Fill(t.fill, meanflux/t.lumi)\n",
    "        hflxlumi.Fill(t.lumi, meanflux)\n",
    "#         hfoc = ROOT.TCut(\"lumiSource==\\\"HFOC\\\"\")\n",
    "# plt = ROOT.TCut(\"lumiSource==\\\"PLTZERO\\\"\")\n",
    "        if t.lumiSource[:-1] == \"HFOC\":\n",
    "            hflxhf.Fill(t.lumi, meanflux)\n",
    "        if t.lumiSource[:-1] == \"PLTZERO\":\n",
    "            hflxplt.Fill(t.lumi, meanflux)\n",
    "\n",
    "prfill = hrfill.ProfileX(\"prfill\", 1, -1, \"s\")\n",
    "# prfill.SetTitle(hrfill.GetTitle())\n"
   ]
  },
  {
   "cell_type": "code",
   "execution_count": 35,
   "metadata": {
    "collapsed": false
   },
   "outputs": [
    {
     "name": "stderr",
     "output_type": "stream",
     "text": [
      "TCanvas::Constructor:0: RuntimeWarning: Deleting canvas with same name: c\n"
     ]
    }
   ],
   "source": [
    "c = ROOT.TCanvas(\"c\", \"c\", 1000, 800)\n",
    "c.Divide(1,3)\n",
    "c.cd(1)\n",
    "hflxlumi.Draw()\n",
    "c.cd(2)\n",
    "hrfill.Draw()\n",
    "c.cd(3)\n",
    "prfill.Draw()\n"
   ]
  },
  {
   "cell_type": "code",
   "execution_count": 56,
   "metadata": {
    "collapsed": false
   },
   "outputs": [],
   "source": [
    "ROOT.gStyle.SetOptStat(0000);\n",
    "c = ROOT.TCanvas(\"c\", \"c\", 800, 600)\n",
    "hflxplt.SetLineColor(ROOT.kRed)\n",
    "hflxplt.SetMarkerColor(ROOT.kRed)\n",
    "hflxplt.Draw()\n",
    "hflxhf.SetLineColor(ROOT.kBlue)\n",
    "hflxhf.SetMarkerColor(ROOT.kBlue)\n",
    "hflxhf.Draw(\"same\")"
   ]
  },
  {
   "cell_type": "code",
   "execution_count": 57,
   "metadata": {
    "collapsed": false
   },
   "outputs": [
    {
     "name": "stdout",
     "output_type": "stream",
     "text": [
      "0000000000000100\n"
     ]
    }
   ],
   "source": []
  },
  {
   "cell_type": "code",
   "execution_count": null,
   "metadata": {
    "collapsed": true
   },
   "outputs": [],
   "source": []
  }
 ],
 "metadata": {
  "kernelspec": {
   "display_name": "Python 2",
   "language": "python",
   "name": "python2"
  },
  "language_info": {
   "codemirror_mode": {
    "name": "ipython",
    "version": 2
   },
   "file_extension": ".py",
   "mimetype": "text/x-python",
   "name": "python",
   "nbconvert_exporter": "python",
   "pygments_lexer": "ipython2",
   "version": "2.7.12"
  }
 },
 "nbformat": 4,
 "nbformat_minor": 0
}
