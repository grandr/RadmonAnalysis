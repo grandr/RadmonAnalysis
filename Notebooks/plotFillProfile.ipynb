{
 "cells": [
  {
   "cell_type": "markdown",
   "metadata": {},
   "source": [
    "Plot fill profile"
   ]
  },
  {
   "cell_type": "code",
   "execution_count": 1,
   "metadata": {
    "collapsed": true
   },
   "outputs": [],
   "source": [
    "import os, sys\n",
    "import ROOT\n",
    "sys.path.append(\"../Utils/\")\n",
    "import xconfig\n",
    "import xutils\n",
    "from fillReport import *\n",
    "import math\n",
    "import time\n",
    "from datetime import datetime\n",
    "from dateutil import tz\n",
    "os.environ['TZ'] = 'Europe/Zurich'"
   ]
  },
  {
   "cell_type": "code",
   "execution_count": 8,
   "metadata": {
    "collapsed": false
   },
   "outputs": [
    {
     "name": "stdout",
     "output_type": "stream",
     "text": [
      "/home/data/RadMonData/RadmonFills/2016/radmon4888.root\n",
      "4.36194444444 1570\n"
     ]
    },
    {
     "name": "stderr",
     "output_type": "stream",
     "text": [
      "TCanvas::Constructor:0: RuntimeWarning: Deleting canvas with same name: c\n"
     ]
    }
   ],
   "source": [
    "fill = 4888\n",
    "ind = 12\n",
    "rebin = 10\n",
    "inputFile = \"/home/data/RadMonData/RadmonFills/2016/radmon\" + str(fill) + \".root\"\n",
    "print inputFile\n",
    "fillReport = FillReport('../Config/FillReport.xls')\n",
    "fin = ROOT.TFile(inputFile,'READ')\n",
    "t = fin.Get(\"t\")\n",
    "binsY = 10000\n",
    "# print tsStart\n",
    "tsStart = fillReport.getFillCreationTime(fill)\n",
    "# tsStart = fillReport.getFillStableTime(fill)\n",
    "tsEnd = fillReport.getFillEndTime(fill) + 2400\n",
    "binsX = (tsEnd - tsStart)/rebin\n",
    "print (tsEnd - tsStart)/60./60., binsX\n",
    "hrate = ROOT.TH2D(\"hrate\", \"Rate, Fill \" + str(fill), binsX, tsStart, tsEnd, binsY, 0., 40000.)\n",
    "for i in range(0, t.GetEntries()):\n",
    "    nb = t.GetEntry(i)\n",
    "    if nb < 0:\n",
    "        continue\n",
    "    hrate.Fill(t.tstamp, t.rates[ind])\n",
    "prate = hrate.ProfileX()\n",
    "\n",
    "ROOT.gStyle.SetOptStat(0000)\n",
    "\n",
    "c = ROOT.TCanvas(\"c\", \"\", 600, 300)\n",
    "prate.GetXaxis().SetTimeFormat(\"%H:%M\")\n",
    "prate.GetXaxis().SetTimeDisplay(1)\n",
    "prate.GetXaxis().SetTitle(\"Time(UTC)\")\n",
    "prate.Draw()\n",
    "\n",
    "# c = ROOT.TCanvas(\"c\", \"\", 800, 800)\n",
    "# c.Divide(1,2)\n",
    "# c.cd(1)\n",
    "# hrate.GetXaxis().SetTimeFormat(\"%H:%M\")\n",
    "# hrate.GetXaxis().SetTimeDisplay(1)\n",
    "# hrate.GetXaxis().SetTitle(\"Time(UTC)\")\n",
    "# hrate.Draw();\n",
    "# c.cd(2)\n",
    "# prate.GetXaxis().SetTimeFormat(\"%H:%M\")\n",
    "# prate.GetXaxis().SetTimeDisplay(1)\n",
    "# prate.GetXaxis().SetTitle(\"Time(UTC)\")\n",
    "# prate.Draw()\n",
    "# glumi.SetTitle(\"Fill 5005. Best Lumi\")\n",
    "# glumi.Draw(\"AP\")\n",
    "# glumi.GetXaxis().SetTimeFormat(\"%H:%M\")\n",
    "# glumi.GetXaxis().SetTimeDisplay(1)\n",
    "# glumi.GetXaxis().SetTitle(\"Time(UTC)\")\n",
    "# glumi.GetXaxis().SetTitleSize(0.05)\n",
    "# c.cd(3)\n",
    "# gratio.SetTitle(\"Fill 5005. Ratio Neutron Rate/Best Lumi\")\n",
    "# gratio.Draw(\"AP\")\n",
    "# gratio.GetXaxis().SetTimeFormat(\"%H:%M\")\n",
    "# gratio.GetXaxis().SetTimeDisplay(1)\n",
    "# gratio.GetXaxis().SetTitle(\"Time(UTC)\")\n",
    "# gratio.GetXaxis().SetTitleSize(0.05)\n",
    "c.Update()"
   ]
  },
  {
   "cell_type": "code",
   "execution_count": null,
   "metadata": {
    "collapsed": true
   },
   "outputs": [],
   "source": []
  }
 ],
 "metadata": {
  "kernelspec": {
   "display_name": "Python 2",
   "language": "python",
   "name": "python2"
  },
  "language_info": {
   "codemirror_mode": {
    "name": "ipython",
    "version": 2
   },
   "file_extension": ".py",
   "mimetype": "text/x-python",
   "name": "python",
   "nbconvert_exporter": "python",
   "pygments_lexer": "ipython2",
   "version": "2.7.11"
  }
 },
 "nbformat": 4,
 "nbformat_minor": 0
}
