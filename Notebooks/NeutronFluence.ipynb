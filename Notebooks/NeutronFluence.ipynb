{
 "cells": [
  {
   "cell_type": "code",
   "execution_count": 1,
   "metadata": {
    "collapsed": true
   },
   "outputs": [],
   "source": [
    "import os, sys\n",
    "import ROOT\n",
    "sys.path.append(\"../Utils/\")\n",
    "sys.path.append(\"../Config/\")\n",
    "import xconfig\n",
    "import xutils\n",
    "from fillReport import *\n",
    "import math\n",
    "\n",
    "fillReport = FillReport('../Config/FillReport_1446656923991.xls')\n",
    "#\n",
    "cfg = xconfig.Config('../Config/sourceCalibration.ini')\n",
    "cfgData = cfg.get_option('Detectors')\n",
    "detInd = {}\n",
    "detNo = {}\n",
    "detCf = {}\n",
    "detCfErr = {}\n",
    "for key in cfgData.keys():\n",
    "    tmp = cfgData[key].split()\n",
    "    detInd[key] = int(tmp[0])\n",
    "    detNo[key] = int(tmp[1])\n",
    "    detCf[key] = float(tmp[2])\n",
    "    detCfErr[key] = float(tmp[3])\n",
    "del cfg"
   ]
  },
  {
   "cell_type": "code",
   "execution_count": 2,
   "metadata": {
    "collapsed": true
   },
   "outputs": [],
   "source": [
    "inputPattern = '/home/data/RadmonLumi/radmonLumi__XXX__.root'\n",
    "refIndx = 5   # PFIB used to find beginning of the collisions\n",
    "rateCut = 50.  # If rate higher than this value, collisions started \n",
    "minPeakInstLumi = 2000.  # Only fills with larger lumi are taken\n",
    "deltaT = 2000.  #  Warm-up cut  \n",
    "minBfield = 3.6\n",
    "\n",
    "#fills = [ 4528, 4530]\n",
    "fills = [ 3960, 3962, 3965, 3971, 3974,3976, 3981, 3983, 3986, 3988, 3992, 3996, \n",
    "        4001, 4006, 4008, 4019, 4020, 4201, 4205, 4207, 4208, 4210, 4211, 4212, \n",
    "         4214, 4219, 4220, 4224, 4225, 4231, 4243, 4246, 4249, 4254, 4256, 4257, \n",
    "         4266, 4268, 4269, 4322, 4323, 4332, 4337, 4341, 4342, 4349, 4356, 4360, \n",
    "         4363, 4364, 4376, 4381, 4384, 4386, 4391, 4393, 4397, 4398, 4402, 4410, \n",
    "         4418, 4420, 4423, 4426, 4428, 4432, 4434, 4435, 4437,  4466, 4467,4476, 4477, 4479, 4485, \n",
    "         4495, 4496, 4499, 4505, 4509, 4510, 4511, 4513, 4518, 4519, 4522, 4525, \n",
    "         4528, 4530, 4532, 4536, 4538, 4540, 4545, 4555, 4557, 4562, 4565, ]\n",
    "#         4440, 4444, 4448, 4449, 4452, 4455, 4462, 4463, 4464,]\n",
    "#fills = [4440, 4444, 4448, 4449, 4452, 4455, 4462, 4463, 4464,]"
   ]
  },
  {
   "cell_type": "code",
   "execution_count": 4,
   "metadata": {
    "collapsed": false
   },
   "outputs": [
    {
     "name": "stdout",
     "output_type": "stream",
     "text": [
      "Starting...\n",
      "Done\n"
     ]
    }
   ],
   "source": [
    "graphs = {}\n",
    "for key in detInd.keys():\n",
    "    graphs[key] = ROOT.TGraph()\n",
    "    graphs[key].SetTitle(key.upper() + \" Neutron fluence vs bestLumi \")\n",
    "\n",
    "print \"Starting...\"\n",
    "for fill in fills:\n",
    "    \n",
    "    # Fill cuts\n",
    "    if fillReport.getFillPeakInstLumi(fill) < minPeakInstLumi:\n",
    "        #print \"Low FillPeakInstLumi for fill\", fill\n",
    "        continue\n",
    "    if fillReport.getFillField(fill) < minBfield:\n",
    "        #print \"Low magnetic field for fill\", fill\n",
    "        continue       \n",
    "    if fillReport.getFillDuration(fill) < deltaT:\n",
    "        #print \"Short fill\", fill\n",
    "        continue\n",
    "    \n",
    "    inputFile = inputPattern.replace('__XXX__', str(fill))\n",
    "    try:\n",
    "        fin = ROOT.TFile(inputFile,'READ')\n",
    "        #print \"Processing fill\", fill\n",
    "    except IOError:\n",
    "        print \"Cannot open file\", inputFile\n",
    "        continue\n",
    "    t = fin.Get(\"t\")  \n",
    "    \n",
    "    tsColl = -10000\n",
    "    for i in range(0, t.GetEntries()):\n",
    "        nb = t.GetEntry(i)\n",
    "        if nb < 0:\n",
    "            continue\n",
    "        \n",
    "        #Start of collisions \n",
    "        if tsColl < 0:\n",
    "            if t.rates[refIndx] > rateCut:\n",
    "                tsColl = t.tstamp  \n",
    "        if tsColl < 0 or t.tstamp < tsColl + deltaT:\n",
    "            continue\n",
    "\n",
    "        for key in graphs.keys():\n",
    "            n = graphs[key].GetN()\n",
    "            graphs[key].SetPoint(n, t.bestLumi, detCf[key]*t.rates[detInd[key]])\n",
    "            #graphs[key].SetPoint(n, t.bestLumi, t.rates[detInd[key]])\n",
    "\n",
    "            \n",
    "print \"Done\" "
   ]
  },
  {
   "cell_type": "markdown",
   "metadata": {},
   "source": [
    "##Fit graphs"
   ]
  },
  {
   "cell_type": "code",
   "execution_count": 5,
   "metadata": {
    "collapsed": false
   },
   "outputs": [],
   "source": [
    "func = ROOT.TF1('func', '[0]+[1]*x', minPeakInstLumi/2., 6000.)\n",
    "func.SetParameters(0., 3.)\n",
    "for key in graphs.keys():\n",
    "    #func.SetParameter(0, 0.)\n",
    "    #func.FixParameter(0, 0.)\n",
    "    graphs[key].Fit('func', \"CROBFQ\", \"\", minPeakInstLumi/2., 6000.)"
   ]
  },
  {
   "cell_type": "markdown",
   "metadata": {},
   "source": [
    "## Print fluence"
   ]
  },
  {
   "cell_type": "code",
   "execution_count": 6,
   "metadata": {
    "collapsed": false,
    "scrolled": true
   },
   "outputs": [
    {
     "name": "stdout",
     "output_type": "stream",
     "text": [
      "MFXT :\t0.265\n",
      "MNIT :\t3.165\n",
      "PFIB :\t4.982\n",
      "PNIT :\t3.327\n",
      "MFIT :\t0.476\n",
      "MNIB :\t4.196\n",
      "PFIT :\t3.267\n",
      "MFIB :\t3.078\n",
      "MNXT :\t0.250\n",
      "PFXT :\t0.280\n",
      "PNIB :\t4.072\n"
     ]
    }
   ],
   "source": [
    "p0 ={}\n",
    "dp0 = {}\n",
    "p1 = {}\n",
    "dp1 = {}\n",
    "for key in graphs.keys():\n",
    "    p0[key] = graphs[key].GetFunction('func').GetParameter(0)\n",
    "    dp0[key] = graphs[key].GetFunction('func').GetParError(0)\n",
    "    p1[key] = graphs[key].GetFunction('func').GetParameter(1)\n",
    "    dp1[key] = graphs[key].GetFunction('func').GetParError(1)    \n",
    "\n",
    "for key in graphs.keys():\n",
    "    print key.upper(), ':\\t', '%.3f' %p1[key]  #, '+/-', dp1[key]"
   ]
  },
  {
   "cell_type": "markdown",
   "metadata": {},
   "source": [
    "## Print ratios "
   ]
  },
  {
   "cell_type": "code",
   "execution_count": 7,
   "metadata": {
    "collapsed": false
   },
   "outputs": [
    {
     "name": "stdout",
     "output_type": "stream",
     "text": [
      "MFIT/MNIT \t0.150\n",
      "PNIT/PNIB \t0.817\n",
      "MNIT/MNIB \t0.754\n",
      "PFIT/PNIT \t0.982\n",
      "PFIB/PNIB \t1.223\n",
      "PFIT/PFIB \t0.656\n",
      "MFIT/MFIB \t0.155\n",
      "MFIB/MNIB \t0.733\n"
     ]
    }
   ],
   "source": [
    "ratios = {'MFIB/MNIB' , 'MFIT/MFIB', 'MFIT/MNIT', 'MNIT/MNIB', 'PFIB/PNIB', 'PFIT/PFIB', 'PFIT/PNIT', 'PNIT/PNIB' }\n",
    "for key in ratios:\n",
    "    (nom, denom) = key.split('/')\n",
    "    value = p1[nom.lower()]/p1[denom.lower()]\n",
    "    print key, '\\t', '%.3f' % value"
   ]
  },
  {
   "cell_type": "code",
   "execution_count": 6,
   "metadata": {
    "collapsed": false
   },
   "outputs": [
    {
     "name": "stdout",
     "output_type": "stream",
     "text": [
      "1.75\n"
     ]
    }
   ],
   "source": [
    "c = ROOT.TCanvas()\n",
    "ROOT.gStyle.SetOptFit(1111)\n",
    "key = 'pnib'\n",
    "print detCf[key]\n",
    "graphs[key].Draw('AP')"
   ]
  },
  {
   "cell_type": "code",
   "execution_count": null,
   "metadata": {
    "collapsed": true
   },
   "outputs": [],
   "source": []
  }
 ],
 "metadata": {
  "kernelspec": {
   "display_name": "Python 2",
   "language": "python",
   "name": "python2"
  },
  "language_info": {
   "codemirror_mode": {
    "name": "ipython",
    "version": 2
   },
   "file_extension": ".py",
   "mimetype": "text/x-python",
   "name": "python",
   "nbconvert_exporter": "python",
   "pygments_lexer": "ipython2",
   "version": "2.7.10"
  }
 },
 "nbformat": 4,
 "nbformat_minor": 0
}
