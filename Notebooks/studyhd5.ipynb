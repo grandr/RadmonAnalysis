{
 "cells": [
  {
   "cell_type": "code",
   "execution_count": 3,
   "metadata": {
    "collapsed": false
   },
   "outputs": [],
   "source": [
    "# %matplotlib inline\n",
    "\n",
    "import sys, tables\n",
    "import matplotlib\n",
    "import numpy as np\n",
    "import datetime as dt\n",
    "import time\n",
    "import matplotlib.pyplot as plt\n",
    "import matplotlib.patches as patches\n",
    "import matplotlib.path as path\n",
    "import matplotlib.dates as md\n",
    "import matplotlib.gridspec as gridspec\n"
   ]
  },
  {
   "cell_type": "code",
   "execution_count": 4,
   "metadata": {
    "collapsed": false
   },
   "outputs": [],
   "source": [
    "f = tables.open_file(\n",
    "    \"/scr1/RadmonHd5/Fills2016/radmon5056.hd5\")"
   ]
  },
  {
   "cell_type": "code",
   "execution_count": 8,
   "metadata": {
    "collapsed": false
   },
   "outputs": [
    {
     "name": "stdout",
     "output_type": "stream",
     "text": [
      "7489\n",
      "2016-06-30 01:44:42\n",
      "(5056L, 275960L, 66L, 4L, 1467240282L, 802L, 76L, 4, 11, 101, 0, 11, 'LowLumi2015', 0.0, 0.0)\n",
      "2016-06-30 01:44:44\n",
      "(5056L, 275960L, 66L, 8L, 1467240284L, 317L, 76L, 4, 11, 101, 0, 11, 'LowLumi2015', 0.0, 0.0)\n",
      "2016-06-30 01:44:45\n",
      "(5056L, 275960L, 66L, 12L, 1467240285L, 767L, 76L, 4, 11, 101, 0, 11, 'LowLumi2015', 0.0, 0.0)\n",
      "2016-06-30 01:44:47\n",
      "(5056L, 275960L, 66L, 16L, 1467240287L, 167L, 76L, 4, 11, 101, 0, 11, 'LowLumi2015', 0.0, 0.0)\n",
      "2016-06-30 01:44:48\n",
      "(5056L, 275961L, 1L, 4L, 1467240288L, 782L, 76L, 4, 11, 101, 0, 11, 'LowLumi2015', 0.0, 0.0)\n",
      "2016-06-30 01:44:50\n",
      "(5056L, 275961L, 1L, 8L, 1467240290L, 304L, 76L, 4, 11, 101, 0, 11, 'LowLumi2015', 0.0, 0.0)\n",
      "2016-06-30 01:44:51\n",
      "(5056L, 275961L, 1L, 12L, 1467240291L, 718L, 76L, 4, 11, 101, 0, 11, 'LowLumi2015', 0.0, 0.0)\n",
      "2016-06-30 01:44:53\n",
      "(5056L, 275961L, 1L, 16L, 1467240293L, 242L, 76L, 4, 11, 101, 0, 11, 'LowLumi2015', 0.0, 0.0)\n",
      "2016-06-30 01:44:54\n",
      "(5056L, 275961L, 1L, 20L, 1467240294L, 668L, 76L, 4, 11, 101, 0, 11, 'LowLumi2015', 0.0, 0.0)\n",
      "2016-06-30 01:44:56\n",
      "(5056L, 275961L, 1L, 24L, 1467240296L, 78L, 76L, 4, 11, 101, 0, 11, 'LowLumi2015', 0.0, 0.0)\n"
     ]
    }
   ],
   "source": [
    "# Checking Lumi\n",
    "for leaf in f.walk_nodes(where='/',classname=\"Leaf\"):\n",
    "    if leaf.name == 'radmonraw':\n",
    "        data =  f.get_node(where='/',name=\"radmonraw\", classname=\"Leaf\")\n",
    "#         indxs = {}\n",
    "#         for i, j in enumerate(data.colnames):\n",
    "#             indxs[j] = i\n",
    "#         print indxs\n",
    "        print len(data)\n",
    "        for row in range(0, len(data)):\n",
    "            if row < 10:\n",
    "                dtime = dt.datetime.fromtimestamp(data[row]['timestampsec']).strftime('%Y-%m-%d %H:%M:%S')\n",
    "                print dtime\n",
    "                print data[row]\n",
    "            "
   ]
  },
  {
   "cell_type": "code",
   "execution_count": 3,
   "metadata": {
    "collapsed": false
   },
   "outputs": [],
   "source": [
    "# plotting Lumi\n",
    "for leaf in f.walk_nodes(where='/',classname=\"Leaf\"):\n",
    "    if leaf.name == 'radmonlumi':\n",
    "        data =  f.get_node(where='/',name=\"radmonlumi\", classname=\"Leaf\")\n",
    "        timestamps = np.empty(len(data))\n",
    "        minusz = np.empty(len(data))\n",
    "        minuszrms = np.empty(len(data))\n",
    "        for index, item in enumerate(data):\n",
    "            timestamps[index] = item['timestampsec']\n",
    "            minusz[index] = item['plusz']\n",
    "            minuszrms[index] = item['pluszrms']\n",
    "            \n",
    "        try:\n",
    "            fig = plt.figure(figsize=(10, 5), dpi=96)\n",
    "            fig.canvas.set_window_title('Lumi')\n",
    "            dates = [dt.datetime.fromtimestamp(ts) for ts in timestamps]\n",
    "            ax = plt.gca()\n",
    "            ax.set_ylim([0.,50])\n",
    "            plt.xticks(rotation = 45)\n",
    "            plt.subplots_adjust(bottom = 0.3)\n",
    "            xfmt = md.DateFormatter('%Y-%m-%d %H:%M')\n",
    "            ax.xaxis.set_major_formatter(xfmt)\n",
    "            plt.plot(dates, minusz, color='blue', fillstyle=\"full\")\n",
    "#             plt.errorbar(dates, minusz, yerr=minuszrms, color='blue', fillstyle=\"full\")\n",
    "            plt.show()\n",
    "        \n",
    "        except Exception as e:\n",
    "            print e.__doc__\n",
    "            print e.message\n",
    "            raise      \n",
    "        "
   ]
  },
  {
   "cell_type": "markdown",
   "metadata": {},
   "source": [
    "#plotting rate\n",
    "\n",
    "['fillnum', 'runnum', 'lsnum', 'nbnum', 'timestampsec', 'timestampmsec', 'totsize', 'publishnnb', 'datasourceid', 'algoid', 'channelid', 'payloadtype', 'rate', 'voltage', 'current', 'status', 'readouttime']"
   ]
  },
  {
   "cell_type": "code",
   "execution_count": null,
   "metadata": {
    "collapsed": false
   },
   "outputs": [
    {
     "name": "stdout",
     "output_type": "stream",
     "text": [
      "no of points 13764\n"
     ]
    }
   ],
   "source": [
    "id = 11 # unstable guy\n",
    "for leaf in f.walk_nodes(where='/',classname=\"Leaf\"):\n",
    "    if leaf.name == 'radmonraw':\n",
    "        data =  f.get_node(where='/',name=\"radmonraw\", classname=\"Leaf\")\n",
    "        timestamps = []\n",
    "        rate = []\n",
    "        voltage = []\n",
    "        current = []\n",
    "        for item in data:\n",
    "            if item['channelid'] == id:\n",
    "                timestamps.append(item['timestampsec'])\n",
    "                rate.append(item['rate'])\n",
    "                voltage.append(item['voltage'])\n",
    "                current.append(item['current'])\n",
    "        \n",
    "        print \"no of points\", len(timestamps)\n",
    "        \n",
    "        try:\n",
    "            fig = plt.figure(figsize=(8, 8), dpi=96)\n",
    "            fig.canvas.set_window_title('PNXT')\n",
    "            dates = [dt.datetime.fromtimestamp(ts) for ts in np.array(timestamps)]\n",
    "            ax = plt.gca()\n",
    "            plt.xticks(rotation = 45)\n",
    "#             plt.subplots_adjust(bottom = 0.3)\n",
    "            xfmt = md.DateFormatter('%Y-%m-%d %H:%M')\n",
    "            ax.xaxis.set_major_formatter(xfmt)\n",
    "            \n",
    "            gs = gridspec.GridSpec(3, 1)\n",
    "            ratePlot = plt.subplot(gs[0, 0])\n",
    "            fig.add_subplot(ratePlot)\n",
    "            voltagePlot = plt.subplot(gs[1, 0])\n",
    "            fig.add_subplot(voltagePlot)\n",
    "            currentPlot = plt.subplot(gs[2, 0])\n",
    "            fig.add_subplot(currentPlot)\n",
    "            \n",
    "            voltagePlot.set_ylim(40000., 60000.)\n",
    "            currentPlot.set_ylim(15000., 50000.)       \n",
    "            \n",
    "            ratePlot.plot(np.array(dates), np.array(rate), label=\"rate\")\n",
    "            voltagePlot.plot(np.array(dates), np.array(voltage), color=\"green\", label='voltage')\n",
    "            currentPlot.plot(np.array(dates), np.array(current), color='red',  label=\"current\")\n",
    "            \n",
    "            ratePlot.legend()\n",
    "            voltagePlot.legend()\n",
    "            currentPlot.legend()\n",
    "            \n",
    "            plt.show()\n",
    "        \n",
    "        except Exception as e:\n",
    "            print e.__doc__\n",
    "            print e.message\n",
    "            raise "
   ]
  },
  {
   "cell_type": "markdown",
   "metadata": {
    "collapsed": true
   },
   "source": [
    "#Plotting Lumi"
   ]
  },
  {
   "cell_type": "code",
   "execution_count": null,
   "metadata": {
    "collapsed": false
   },
   "outputs": [],
   "source": [
    "fillNo = 0\n",
    "dateTimeStart = '2016-04-10 13:00'\n",
    "dateTimeEnd = '2016-04-12 13:30'\n",
    "\n",
    "\n",
    "tsStart = time.mktime(dt.datetime.strptime(dateTimeStart, \"%Y-%m-%d %H:%M\").timetuple())\n",
    "tsEnd = time.mktime(dt.datetime.strptime(dateTimeEnd, \"%Y-%m-%d %H:%M\").timetuple())\n",
    "\n",
    "for leaf in f.walk_nodes(where='/',classname=\"Leaf\"):\n",
    "    if leaf.name == 'radmonlumi':\n",
    "        data =  f.get_node(where='/',name=\"radmonlumi\", classname=\"Leaf\")\n",
    "        timestamps = []\n",
    "        minusz = []\n",
    "        plusz = []\n",
    "        for item in data:\n",
    "            ts = item['timestampsec']\n",
    "            if ts > tsStart and ts < tsEnd:\n",
    "                timestamps.append(item['timestampsec'])\n",
    "                minusz.append(item['minusz'])\n",
    "                plusz.append(item['plusz'])\n",
    "                fillno = item['fillnum']\n",
    "        \n",
    "        print \"no of points\", len(timestamps)\n",
    "        \n",
    "        try:\n",
    "            fig = plt.figure(figsize=(8, 6), dpi=96)\n",
    "            fig.canvas.set_window_title('Radmon Lumi fill ' + str(fillno))\n",
    "            dates = [dt.datetime.fromtimestamp(ts) for ts in np.array(timestamps)]\n",
    "            ax = plt.gca()\n",
    "#             ax.xticks(rotation = 'veritcal')\n",
    "#             ax.subplots_adjust(bottom = 0.3)\n",
    "            xfmt = md.DateFormatter('%Y-%m-%d %H:%M')\n",
    "            ax.xaxis.set_major_formatter(xfmt)\n",
    "            \n",
    "            gs = gridspec.GridSpec(2, 1)\n",
    "            minusPlot = plt.subplot(gs[0, 0])\n",
    "            fig.add_subplot(minusPlot)\n",
    "            plusPlot = plt.subplot(gs[1, 0])\n",
    "            fig.add_subplot(plusPlot)\n",
    "            \n",
    "            minusPlot.set_ylim(0., 10.)\n",
    "            plusPlot.set_ylim(0., 10.)       \n",
    "            \n",
    "\n",
    "            minusPlot.plot(np.array(dates), np.array(minusz), label=\"-Z, Fill \" +  str(fillno))\n",
    "            plusPlot.plot(np.array(dates), np.array(plusz), color=\"green\", label=\"+Z, Fill \" +  str(fillno))\n",
    "            \n",
    "#             fig.subplots_adjust(bottom = 0.3)\n",
    "#             fig.autofmt_xdate()\n",
    "            \n",
    "            minusPlot.legend()\n",
    "            plusPlot.legend()\n",
    "            \n",
    "            plt.show()\n",
    "        \n",
    "        except Exception as e:\n",
    "            print e.__doc__\n",
    "            print e.message\n",
    "            raise \n",
    "            "
   ]
  },
  {
   "cell_type": "code",
   "execution_count": null,
   "metadata": {
    "collapsed": true
   },
   "outputs": [],
   "source": []
  }
 ],
 "metadata": {
  "kernelspec": {
   "display_name": "Python 2",
   "language": "python",
   "name": "python2"
  },
  "language_info": {
   "codemirror_mode": {
    "name": "ipython",
    "version": 2
   },
   "file_extension": ".py",
   "mimetype": "text/x-python",
   "name": "python",
   "nbconvert_exporter": "python",
   "pygments_lexer": "ipython2",
   "version": "2.7.11"
  }
 },
 "nbformat": 4,
 "nbformat_minor": 0
}
