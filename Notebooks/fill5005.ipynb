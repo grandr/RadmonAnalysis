{
 "cells": [
  {
   "cell_type": "markdown",
   "metadata": {},
   "source": [
    "CMS Beam gas study"
   ]
  },
  {
   "cell_type": "code",
   "execution_count": 1,
   "metadata": {
    "collapsed": true
   },
   "outputs": [],
   "source": [
    "import os, sys\n",
    "import ROOT\n",
    "sys.path.append(\"../Utils/\")\n",
    "import xconfig\n",
    "import xutils\n",
    "from fillReport import *\n",
    "import math\n",
    "import time\n",
    "from datetime import datetime\n",
    "from dateutil import tz\n",
    "os.environ['TZ'] = 'Europe/Zurich'"
   ]
  },
  {
   "cell_type": "code",
   "execution_count": 2,
   "metadata": {
    "collapsed": false
   },
   "outputs": [],
   "source": [
    "inputFile = \"/home/data/RadmonLumi/2016/radmonLumi5005.root\"\n",
    "fillReport = FillReport('../Config/FillReport.xls')\n",
    "fin = ROOT.TFile(inputFile,'READ')\n",
    "t = fin.Get(\"t\")"
   ]
  },
  {
   "cell_type": "code",
   "execution_count": 17,
   "metadata": {
    "collapsed": false
   },
   "outputs": [
    {
     "name": "stderr",
     "output_type": "stream",
     "text": [
      "TCanvas::Constructor:0: RuntimeWarning: Deleting canvas with same name: c\n"
     ]
    }
   ],
   "source": [
    "ind = 15\n",
    "binsY = 100\n",
    "# tsStart = fillReport.getFillCreationTime(5005)\n",
    "tsStart = fillReport.getFillStableTime(5005)\n",
    "tsEnd = fillReport.getFillEndTime(5005) + 1200\n",
    "binsX = (tsEnd - tsStart)/23/1 \n",
    "# hrate = ROOT.TH2D(\"hrate\", \"Rate\", binsX, tsStart, tsEnd, binsY, 0., 0.)\n",
    "grate = ROOT.TGraph()\n",
    "glumi = ROOT.TGraph()\n",
    "gratio = ROOT.TGraph()\n",
    "for i in range(0, t.GetEntries()):\n",
    "    nb = t.GetEntry(i)\n",
    "    if nb < 0:\n",
    "        continue\n",
    "#     hrate.Fill(t.tstamp, t.rates[ind])\n",
    "    n = grate.GetN()\n",
    "    grate.SetPoint(n, t.tstamp, t.rates[ind])\n",
    "    n = glumi.GetN()\n",
    "    glumi.SetPoint(n, t.tstamp, t.bestLumi)\n",
    "    n = gratio.GetN()\n",
    "    if t.bestLumi > 0.:\n",
    "        r = t.rates[ind]/t.bestLumi\n",
    "    else:\n",
    "        r = 0.\n",
    "    gratio.SetPoint(n, t.tstamp, r)\n",
    "# prate = hrate.ProfileX()\n",
    "c = ROOT.TCanvas(\"c\", \"\", 800, 800)\n",
    "c.Divide(1,3)\n",
    "c.cd(1)\n",
    "grate.SetTitle(\"Fill 5005. Neutron Rate\")\n",
    "grate.Draw(\"AP\")\n",
    "grate.GetXaxis().SetTimeFormat(\"%H:%M\")\n",
    "grate.GetXaxis().SetTimeDisplay(1)\n",
    "grate.GetXaxis().SetTitle(\"Time(UTC)\")\n",
    "grate.GetXaxis().SetTitleSize(0.05)\n",
    "c.cd(2)\n",
    "glumi.SetTitle(\"Fill 5005. Best Lumi\")\n",
    "glumi.Draw(\"AP\")\n",
    "glumi.GetXaxis().SetTimeFormat(\"%H:%M\")\n",
    "glumi.GetXaxis().SetTimeDisplay(1)\n",
    "glumi.GetXaxis().SetTitle(\"Time(UTC)\")\n",
    "glumi.GetXaxis().SetTitleSize(0.05)\n",
    "c.cd(3)\n",
    "gratio.SetTitle(\"Fill 5005. Ratio Neutron Rate/Best Lumi\")\n",
    "gratio.Draw(\"AP\")\n",
    "gratio.GetXaxis().SetTimeFormat(\"%H:%M\")\n",
    "gratio.GetXaxis().SetTimeDisplay(1)\n",
    "gratio.GetXaxis().SetTitle(\"Time(UTC)\")\n",
    "gratio.GetXaxis().SetTitleSize(0.05)\n",
    "c.Update()"
   ]
  },
  {
   "cell_type": "code",
   "execution_count": null,
   "metadata": {
    "collapsed": true
   },
   "outputs": [],
   "source": []
  }
 ],
 "metadata": {
  "kernelspec": {
   "display_name": "Python 2",
   "language": "python",
   "name": "python2"
  },
  "language_info": {
   "codemirror_mode": {
    "name": "ipython",
    "version": 2
   },
   "file_extension": ".py",
   "mimetype": "text/x-python",
   "name": "python",
   "nbconvert_exporter": "python",
   "pygments_lexer": "ipython2",
   "version": "2.7.11"
  }
 },
 "nbformat": 4,
 "nbformat_minor": 0
}
