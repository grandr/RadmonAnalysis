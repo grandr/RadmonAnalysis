{
 "metadata": {
  "name": "warmingLxplus"
 },
 "nbformat": 3,
 "nbformat_minor": 0,
 "worksheets": [
  {
   "cells": [
    {
     "cell_type": "raw",
     "metadata": {},
     "source": [
      "Fit function\n",
      "\n",
      "[0]*(1-([1]*exp(-1*x/[2] )))\n",
      "\n",
      "EXT PARAMETER                                   STEP         FIRST   \n",
      "  NO.   NAME      VALUE            ERROR          SIZE      DERIVATIVE \n",
      "   1  p0           9.88626e-01   3.41195e-04   8.02025e-06  -5.17981e-02\n",
      "   2  p1           3.29335e-02   4.32396e-04   4.89305e-06   2.26428e-02\n",
      "   3  p2           1.15083e+03   2.85378e+01   3.79878e-01   9.11028e-07"
     ]
    },
    {
     "cell_type": "code",
     "collapsed": true,
     "input": [
      "#import ROOT\n",
      "#import xutils\n",
      "#import  xconfig\n",
      "import fillReport\n",
      "import radmonAnaW \n",
      "#import rootnotes\n",
      "#import rootprint\n",
      "#import rootpy\n",
      "#reload(xconfig)\n",
      "#reload(xutils)\n",
      "reload(fillReport)\n",
      "reload(radmonAnaW)\n",
      "\n",
      "from radmonAnaW import *\n",
      "from fillReport import *\n",
      "f = RadmonAnaW()\n",
      "#f.processFill(4249)\n",
      "#f.processFill(4243)  # 315 bunches\n",
      "f.processFill(4538)   #1825 bunches\n",
      "f.makeProfiles()\n",
      "f.makeRatios()\n",
      "f.setFitLimits()"
     ],
     "language": "python",
     "metadata": {},
     "outputs": [
      {
       "output_type": "stream",
       "stream": "stdout",
       "text": [
        "Fill 4538...\n",
        "Secs per bin"
       ]
      },
      {
       "output_type": "stream",
       "stream": "stdout",
       "text": [
        " 60\n",
        "Fit limits"
       ]
      },
      {
       "output_type": "stream",
       "stream": "stdout",
       "text": [
        " 90.6549668874 14490.6549669\n"
       ]
      }
     ],
     "prompt_number": 5
    },
    {
     "cell_type": "code",
     "collapsed": false,
     "input": [
      "f.draw('h', 'mnit')"
     ],
     "language": "python",
     "metadata": {},
     "outputs": [],
     "prompt_number": 2
    },
    {
     "cell_type": "code",
     "collapsed": false,
     "input": [
      "f.draw('p', 'pnib')"
     ],
     "language": "python",
     "metadata": {},
     "outputs": [
      {
       "output_type": "stream",
       "stream": "stderr",
       "text": [
        "TCanvas::Constructor:0: RuntimeWarning: Deleting canvas with same name: c\n"
       ]
      }
     ],
     "prompt_number": 23
    },
    {
     "cell_type": "code",
     "collapsed": false,
     "input": [
      "#ROOT.gStyle.SetOptFit(1)\n",
      "ROOT.gStyle.SetOptStat(111111)\n",
      "f.draw('r', 'mnit', 'AP')"
     ],
     "language": "python",
     "metadata": {},
     "outputs": [
      {
       "output_type": "stream",
       "stream": "stderr",
       "text": [
        "TCanvas::Constructor:0: RuntimeWarning: Deleting canvas with same name: c\n"
       ]
      }
     ],
     "prompt_number": 10
    },
    {
     "cell_type": "code",
     "collapsed": false,
     "input": [
      "f.fitRatio('mfxt')\n",
      "ROOT.gStyle.SetOptFit(1)\n",
      "f.draw('r', 'mfxt', 'AP')"
     ],
     "language": "python",
     "metadata": {},
     "outputs": [],
     "prompt_number": 9
    },
    {
     "cell_type": "code",
     "collapsed": false,
     "input": [
      "f.fitAllRatios()"
     ],
     "language": "python",
     "metadata": {},
     "outputs": [
      {
       "output_type": "pyout",
       "prompt_number": 6,
       "text": [
        "([-1000.0,\n",
        "  -1000.0,\n",
        "  -1000.0,\n",
        "  -1000.0,\n",
        "  1.0257474669988018,\n",
        "  0.98497758957345349,\n",
        "  0.98103394106817199,\n",
        "  -1000.0,\n",
        "  1.0184529178777355,\n",
        "  1.0288311300063562,\n",
        "  1.0353758020173269,\n",
        "  1.0313360153195608,\n",
        "  1.051833477397176,\n",
        "  1.0325855675345832,\n",
        "  1.018912461585008,\n",
        "  1.0325681276351504],\n",
        " [-1000.0,\n",
        "  -1000.0,\n",
        "  -1000.0,\n",
        "  -1000.0,\n",
        "  0.00088070042023935535,\n",
        "  0.00011277902918888083,\n",
        "  0.00014874034372996947,\n",
        "  -1000.0,\n",
        "  9.9417159832859703e-05,\n",
        "  0.000145133322705715,\n",
        "  0.0011641471466687925,\n",
        "  0.00012281973925098999,\n",
        "  0.00013110418117390221,\n",
        "  0.0019291363918154669,\n",
        "  0.00010245171946021703,\n",
        "  0.0001106375047377206],\n",
        " [-1000.0,\n",
        "  -1000.0,\n",
        "  -1000.0,\n",
        "  -1000.0,\n",
        "  0.047138686105296146,\n",
        "  0.044961738011466801,\n",
        "  0.035870905308704071,\n",
        "  -1000.0,\n",
        "  0.050972688074009009,\n",
        "  0.062239252654006094,\n",
        "  0.028473099163567883,\n",
        "  0.052510206995669384,\n",
        "  0.041419461296480165,\n",
        "  0.020724157010376221,\n",
        "  0.05133293649972831,\n",
        "  0.036022901922232398],\n",
        " [-1000.0,\n",
        "  -1000.0,\n",
        "  -1000.0,\n",
        "  -1000.0,\n",
        "  0.0014490323416788131,\n",
        "  0.00081320582101535033,\n",
        "  0.00064896050185514476,\n",
        "  -1000.0,\n",
        "  0.00090510220899728266,\n",
        "  0.00070773456061556939,\n",
        "  0.0012634099127749321,\n",
        "  0.00071495841793250969,\n",
        "  0.00099187113475510125,\n",
        "  0.0015038690357404294,\n",
        "  0.0009857764736947161,\n",
        "  0.0008784106573168915],\n",
        " [-1000.0,\n",
        "  -1000.0,\n",
        "  -1000.0,\n",
        "  -1000.0,\n",
        "  3524.3889093912294,\n",
        "  1281.2615550486405,\n",
        "  2030.2612584821688,\n",
        "  -1000.0,\n",
        "  974.35452853673053,\n",
        "  1729.2794078858087,\n",
        "  4511.6929707064382,\n",
        "  1618.5283090471014,\n",
        "  1107.8342218412586,\n",
        "  5915.4056152351586,\n",
        "  906.39322583320188,\n",
        "  1165.0132373336396],\n",
        " [-1000.0,\n",
        "  -1000.0,\n",
        "  -1000.0,\n",
        "  -1000.0,\n",
        "  278.60388661452293,\n",
        "  32.446932875418497,\n",
        "  61.385418488982396,\n",
        "  -1000.0,\n",
        "  21.861371139697553,\n",
        "  31.945894536006335,\n",
        "  628.04481520775653,\n",
        "  33.39612307558798,\n",
        "  37.188835050319653,\n",
        "  1480.399349722908,\n",
        "  22.565350779379912,\n",
        "  38.235700399374991])"
       ]
      }
     ],
     "prompt_number": 6
    },
    {
     "cell_type": "code",
     "collapsed": false,
     "input": [
      "f.getUndercount(1)"
     ],
     "language": "python",
     "metadata": {},
     "outputs": [
      {
       "output_type": "pyout",
       "prompt_number": 8,
       "text": [
        "([-10000.0,\n",
        "  -10000.0,\n",
        "  -10000.0,\n",
        "  -10000.0,\n",
        "  3692.6908811956864,\n",
        "  3545.9193224644328,\n",
        "  3531.7221878454193,\n",
        "  -10000.0,\n",
        "  3666.4305043598479,\n",
        "  3703.7920680228822,\n",
        "  3727.352887262377,\n",
        "  3712.8096551504186,\n",
        "  3786.6005186298339,\n",
        "  3717.3080431244994,\n",
        "  3668.0848617060287,\n",
        "  3717.2452594865413],\n",
        " [-10000.0,\n",
        "  -10000.0,\n",
        "  -10000.0,\n",
        "  -10000.0,\n",
        "  106.28266914707966,\n",
        "  49.682633287751877,\n",
        "  56.724703483367016,\n",
        "  -10000.0,\n",
        "  44.942592505895924,\n",
        "  91.972938051035115,\n",
        "  71.664153457645682,\n",
        "  73.914769920055406,\n",
        "  42.7470023660346,\n",
        "  56.83026873391546,\n",
        "  42.087451906193216,\n",
        "  38.265802778323476])"
       ]
      }
     ],
     "prompt_number": 8
    },
    {
     "cell_type": "code",
     "collapsed": false,
     "input": [],
     "language": "python",
     "metadata": {},
     "outputs": []
    }
   ],
   "metadata": {}
  }
 ]
}