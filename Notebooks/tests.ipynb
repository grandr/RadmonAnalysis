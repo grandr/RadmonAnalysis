{
 "cells": [
  {
   "cell_type": "code",
   "execution_count": 10,
   "metadata": {
    "collapsed": false
   },
   "outputs": [],
   "source": [
    "sys.path.append(\"../Utils/\")\n",
    "sys.path.append(\"../Config/\")\n",
    "import os, sys\n",
    "import tables\n",
    "import numpy as np\n",
    "import datetime as dt\n",
    "import time\n",
    "import ROOT\n",
    "from xutils import *\n",
    "import xconfig"
   ]
  },
  {
   "cell_type": "code",
   "execution_count": 11,
   "metadata": {
    "collapsed": true
   },
   "outputs": [],
   "source": [
    "f = tables.open_file(\"/home/data/RadMonData/RadmonHd5/2016/1fe845c9-7fb9-4c23-98a2-b74e668c3527_1604191717_0.hd5\")"
   ]
  },
  {
   "cell_type": "code",
   "execution_count": 13,
   "metadata": {
    "collapsed": false
   },
   "outputs": [
    {
     "name": "stdout",
     "output_type": "stream",
     "text": [
      "4070905200.0\n"
     ]
    }
   ],
   "source": [
    "(dtimeStart, dtimeEnd) = ('2000-01-01 00:00', '2100-01-01 00:00')\n",
    "dtimeStart = '2099-01-01 00:00'\n",
    "print datime2ts(dtimeStart)"
   ]
  },
  {
   "cell_type": "code",
   "execution_count": null,
   "metadata": {
    "collapsed": true
   },
   "outputs": [],
   "source": []
  }
 ],
 "metadata": {
  "kernelspec": {
   "display_name": "Python 2",
   "language": "python",
   "name": "python2"
  },
  "language_info": {
   "codemirror_mode": {
    "name": "ipython",
    "version": 2
   },
   "file_extension": ".py",
   "mimetype": "text/x-python",
   "name": "python",
   "nbconvert_exporter": "python",
   "pygments_lexer": "ipython2",
   "version": "2.7.11"
  }
 },
 "nbformat": 4,
 "nbformat_minor": 0
}
