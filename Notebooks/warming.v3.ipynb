{
 "metadata": {
  "kernelspec": {
   "display_name": "Python 2",
   "language": "python",
   "name": "python2"
  },
  "language_info": {
   "codemirror_mode": {
    "name": "ipython",
    "version": 2
   },
   "file_extension": ".py",
   "mimetype": "text/x-python",
   "name": "python",
   "nbconvert_exporter": "python",
   "pygments_lexer": "ipython2",
   "version": "2.7.10"
  },
  "name": ""
 },
 "nbformat": 3,
 "nbformat_minor": 0,
 "worksheets": [
  {
   "cells": [
    {
     "cell_type": "code",
     "collapsed": false,
     "input": [
      "#import ROOT\n",
      "#import xutils\n",
      "#import  xconfig\n",
      "import fillReport\n",
      "import radmonAnaW \n",
      "#import rootnotes\n",
      "#import rootprint\n",
      "#import rootpy\n",
      "#reload(xconfig)\n",
      "#reload(xutils)\n",
      "reload(fillReport)\n",
      "reload(radmonAnaW)\n",
      "\n",
      "from radmonAnaW import *\n",
      "from fillReport import *\n",
      "f = RadmonAnaW()\n",
      "f.processFill(4538)"
     ],
     "language": "python",
     "metadata": {
      "scrolled": true
     },
     "outputs": [
      {
       "output_type": "stream",
       "stream": "stdout",
       "text": [
        "Fill 4538...\n",
        "Secs per bin 5 \t  Y max: 5397.7859\n",
        "Done processing.\n"
       ]
      }
     ],
     "prompt_number": 1
    },
    {
     "cell_type": "code",
     "collapsed": false,
     "input": [
      "f.makeProfiles()"
     ],
     "language": "python",
     "metadata": {},
     "outputs": [],
     "prompt_number": 2
    },
    {
     "cell_type": "code",
     "collapsed": false,
     "input": [
      "f.makeRatios()"
     ],
     "language": "python",
     "metadata": {},
     "outputs": [],
     "prompt_number": 3
    },
    {
     "cell_type": "code",
     "collapsed": false,
     "input": [
      "f.draw('p', 'pfib')"
     ],
     "language": "python",
     "metadata": {},
     "outputs": [
      {
       "output_type": "stream",
       "stream": "stderr",
       "text": [
        "TCanvas::Constructor:0: RuntimeWarning: Deleting canvas with same name: c\n"
       ]
      }
     ],
     "prompt_number": 6
    },
    {
     "cell_type": "code",
     "collapsed": false,
     "input": [
      "f.draw('r', 'pfib')"
     ],
     "language": "python",
     "metadata": {},
     "outputs": [
      {
       "output_type": "stream",
       "stream": "stderr",
       "text": [
        "TCanvas::Constructor:0: RuntimeWarning: Deleting canvas with same name: c\n"
       ]
      }
     ],
     "prompt_number": 7
    },
    {
     "cell_type": "raw",
     "metadata": {},
     "source": [
      "\n",
      "\n",
      "[0]*(1-([1]*exp(-1*x/[2] )))\n",
      "\n",
      "EXT PARAMETER                                   STEP         FIRST   \n",
      "  NO.   NAME      VALUE            ERROR          SIZE      DERIVATIVE \n",
      "   1  p0           9.88626e-01   3.41195e-04   8.02025e-06  -5.17981e-02\n",
      "   2  p1           3.29335e-02   4.32396e-04   4.89305e-06   2.26428e-02\n",
      "   3  p2           1.15083e+03   2.85378e+01   3.79878e-01   9.11028e-07\n",
      "\n"
     ]
    }
   ],
   "metadata": {}
  }
 ]
}