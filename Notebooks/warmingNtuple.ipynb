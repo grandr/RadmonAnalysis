{
 "metadata": {
  "name": "warmingNtuple"
 },
 "nbformat": 3,
 "nbformat_minor": 0,
 "worksheets": [
  {
   "cells": [
    {
     "cell_type": "code",
     "collapsed": false,
     "input": [
      "import ROOT"
     ],
     "language": "python",
     "metadata": {},
     "outputs": [],
     "prompt_number": 1
    },
    {
     "cell_type": "raw",
     "metadata": {},
     "source": [
      "******************************************************************************\n",
      "*Tree    :t         : Warming by fills                                       *\n",
      "*Entries :       62 : Total =          102721 bytes  File  Size =      62008 *\n",
      "*        :          : Tree compression factor =   1.62                       *\n",
      "******************************************************************************\n",
      "*Br    0 :fillBranchI : fill/I:fillStart/I:fillColl/I:fillStable/I:fillEnd/I:*\n",
      "*         | durationStable/I                                                 *\n",
      "*Entries :       62 : Total  Size=       2519 bytes  File Size  =       1371 *\n",
      "*Baskets :        1 : Basket Size=      32000 bytes  Compression=   1.14     *\n",
      "*............................................................................*\n",
      "*Br    1 :fillBranchD : bField/D:beamEnergy/D:peakLumi/D                     *\n",
      "*Entries :       62 : Total  Size=       2258 bytes  File Size  =        734 *\n",
      "*Baskets :        1 : Basket Size=      32000 bytes  Compression=   2.13     *\n",
      "*............................................................................*\n",
      "*Br    2 :fitBranch : p0[16]/D:p0err[16]/D:p1[16]/D:p1err[16]/D:p2[16]/D:    *\n",
      "*         | p2err[16]/D                                                      *\n",
      "*Entries :       62 : Total  Size=      48719 bytes  File Size  =      33389 *\n",
      "*Baskets :        2 : Basket Size=      32000 bytes  Compression=   1.43     *\n",
      "*............................................................................*\n",
      "*Br    3 :ucountBranch : tcount1[16]/D:ucount1[16]/D:tcount2[16]/D:          *\n",
      "*         | ucount2[16]/D:tcount4[16]/D:ucount4[16]/D                        *\n",
      "*Entries :       62 : Total  Size=      48791 bytes  File Size  =      25302 *\n",
      "*Baskets :        2 : Basket Size=      32000 bytes  Compression=   1.89     *\n",
      "*............................................................................*\n"
     ]
    },
    {
     "cell_type": "code",
     "collapsed": false,
     "input": [
      "detectors = {\n",
      "    \"MFXT\" :\t10,\t\n",
      "    \"MNIT\" :\t15,\t\n",
      "    \"PFIB\" :\t5,\t\n",
      "    \"PNIT\" :\t9,\t\n",
      "    \"MFIT\" :\t12,\t\n",
      "    \"MNIB\" :\t14,\t\n",
      "    \"PFIT\" :\t6,\t\n",
      "    \"MFIB\" :\t11,\t\n",
      "    \"MNXT\" :\t13,\t\n",
      "    \"PFXT\" :\t4,\t\n",
      "    \"PNIB\" :\t8\n",
      "\t}"
     ],
     "language": "python",
     "metadata": {},
     "outputs": [],
     "prompt_number": 2
    },
    {
     "cell_type": "code",
     "collapsed": false,
     "input": [
      "#f = ROOT.TFile(\"/afs/cern.ch/work/g/grandr/Bril/Data/warmingByFillAllProtons.root\")\n",
      "f = ROOT.TFile(\"/afs/cern.ch/work/g/grandr/Bril/Data/warmingByFill.root\")\n",
      "t = f.Get(\"t\")\n",
      "#t.Print()"
     ],
     "language": "python",
     "metadata": {},
     "outputs": [],
     "prompt_number": 3
    },
    {
     "cell_type": "code",
     "collapsed": false,
     "input": [
      "#### Internal monitors\n",
      "detset = [\"MNIT\", \"PFIB\", \"PNIT\", \"MFIT\", \"MNIB\", \"PFIT\", \"MFIB\", \"PNIB\"]\n",
      "detIndx = []\n",
      "for det in detectors:\n",
      "    if det in detset:\n",
      "        detIndx.append(detectors[det])\n",
      "#Book\n",
      "binsX = 20\n",
      "binsY = 50\n",
      "hp0 = ROOT.TH2D(\"hp0\", \"p0 vs peakLumi for internal monitors\", binsX, 0., 0., binsY, 0., 0.)\n",
      "hp1 = ROOT.TH2D(\"hp1\", \"p1 vs peakLumi for internal monitors\", binsX, 0., 0., binsY, 0., 0.)\n",
      "hp2 = ROOT.TH2D(\"hp2\", \"p2 vs peakLumi for internal monitors\", binsX, 0., 0., binsY, 0., 0.)\n",
      "hu1 = ROOT.TH2D(\"hu1\", \"undercounting (1 hour) vs peakLumi for internal monitors\", binsX, 0., 0., binsY, 0., 0.)\n",
      "hu2 = ROOT.TH2D(\"hu2\", \"undercounting (2 hours) vs peakLumi for internal monitors\", binsX, 0., 0., binsY, 0., 0.)\n",
      "hu4 = ROOT.TH2D(\"hu4\", \"undercounting (4 hours) vs peakLumi for internal monitors\", binsX, 0., 0., binsY, 0., 0.)\n",
      "\n",
      "hp21 = ROOT.TH1D(\"hp21\", \"p2\", 50, 0., 0.)\n",
      "#fill\n",
      "for i in range(0, t.GetEntries()):\n",
      "    nb = t.GetEntry(i)\n",
      "    if nb < 0:\n",
      "        continue    \n",
      "    # Magnet ON\n",
      "    #if t.bField < 3.6:\n",
      "    #   continue\n",
      "    for j in range(0, 16):\n",
      "        if j not in  detIndx:\n",
      "            continue\n",
      "        if t.p2[j] < 0. or t.p2[j] > 10000.:\n",
      "            continue\n",
      "        hp0.Fill(t.peakLumi, t.p0[j])\n",
      "        hp1.Fill(t.peakLumi, t.p1[j])\n",
      "        hp2.Fill(t.peakLumi, t.p2[j])\n",
      "        hu1.Fill(t.peakLumi, t.ucount1[j]/t.tcount1[j])\n",
      "        hu2.Fill(t.peakLumi, t.ucount2[j]/t.tcount2[j])\n",
      "        hu4.Fill(t.peakLumi, t.ucount4[j]/t.tcount4[j])\n",
      "        # Fill 1D histo\n",
      "        if t.peakLumi > 2000.:\n",
      "            hp21.Fill(t.p2[j])\n",
      "\n",
      "#Make profiles\n",
      "pp0 = hp0.ProfileX() \n",
      "pp1 = hp1.ProfileX()  \n",
      "pp2 = hp2.ProfileX()  \n",
      "pu1 = hu1.ProfileX()  \n",
      "pu2 = hu2.ProfileX()  \n",
      "pu4 = hu4.ProfileX()  \n",
      "                   "
     ],
     "language": "python",
     "metadata": {},
     "outputs": [],
     "prompt_number": 4
    },
    {
     "cell_type": "code",
     "collapsed": false,
     "input": [
      "#Draw (change histo id)\n",
      "c = ROOT.TCanvas('c', '', 800, 600)\n",
      "pp2.Draw()"
     ],
     "language": "python",
     "metadata": {},
     "outputs": [
      {
       "output_type": "stream",
       "stream": "stderr",
       "text": [
        "TCanvas::Constructor:0: RuntimeWarning: Deleting canvas with same name: c\n"
       ]
      }
     ],
     "prompt_number": 66
    },
    {
     "cell_type": "code",
     "collapsed": false,
     "input": [
      "#Draw fill information\n",
      "c = ROOT.TCanvas('c', '', 800, 600)\n",
      "#t.Draw(\"t.fillStable - t.fillColl\")\n",
      "t.Draw(\"t.fillStabl\")"
     ],
     "language": "python",
     "metadata": {},
     "outputs": [],
     "prompt_number": 30
    },
    {
     "cell_type": "code",
     "collapsed": false,
     "input": [],
     "language": "python",
     "metadata": {},
     "outputs": []
    }
   ],
   "metadata": {}
  }
 ]
}