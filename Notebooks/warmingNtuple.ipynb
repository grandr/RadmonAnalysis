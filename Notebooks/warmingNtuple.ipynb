{
 "cells": [
  {
   "cell_type": "code",
   "execution_count": 2,
   "metadata": {
    "collapsed": false
   },
   "outputs": [],
   "source": [
    "import ROOT"
   ]
  },
  {
   "cell_type": "raw",
   "metadata": {},
   "source": [
    "******************************************************************************\n",
    "*Tree    :t         : Warming by fills                                       *\n",
    "*Entries :       62 : Total =          102721 bytes  File  Size =      62008 *\n",
    "*        :          : Tree compression factor =   1.62                       *\n",
    "******************************************************************************\n",
    "*Br    0 :fillBranchI : fill/I:fillStart/I:fillColl/I:fillStable/I:fillEnd/I:*\n",
    "*         | durationStable/I                                                 *\n",
    "*Entries :       62 : Total  Size=       2519 bytes  File Size  =       1371 *\n",
    "*Baskets :        1 : Basket Size=      32000 bytes  Compression=   1.14     *\n",
    "*............................................................................*\n",
    "*Br    1 :fillBranchD : bField/D:beamEnergy/D:peakLumi/D                     *\n",
    "*Entries :       62 : Total  Size=       2258 bytes  File Size  =        734 *\n",
    "*Baskets :        1 : Basket Size=      32000 bytes  Compression=   2.13     *\n",
    "*............................................................................*\n",
    "*Br    2 :fitBranch : p0[16]/D:p0err[16]/D:p1[16]/D:p1err[16]/D:p2[16]/D:    *\n",
    "*         | p2err[16]/D                                                      *\n",
    "*Entries :       62 : Total  Size=      48719 bytes  File Size  =      33389 *\n",
    "*Baskets :        2 : Basket Size=      32000 bytes  Compression=   1.43     *\n",
    "*............................................................................*\n",
    "*Br    3 :ucountBranch : tcount1[16]/D:ucount1[16]/D:tcount2[16]/D:          *\n",
    "*         | ucount2[16]/D:tcount4[16]/D:ucount4[16]/D                        *\n",
    "*Entries :       62 : Total  Size=      48791 bytes  File Size  =      25302 *\n",
    "*Baskets :        2 : Basket Size=      32000 bytes  Compression=   1.89     *\n",
    "*............................................................................*\n"
   ]
  },
  {
   "cell_type": "code",
   "execution_count": 3,
   "metadata": {
    "collapsed": false
   },
   "outputs": [],
   "source": [
    "detectors = {\n",
    "    \"MFXT\" :\t10,\t\n",
    "    \"MNIT\" :\t15,\t\n",
    "    \"PFIB\" :\t5,\t\n",
    "    \"PNIT\" :\t9,\t\n",
    "    \"MFIT\" :\t12,\t\n",
    "    \"MNIB\" :\t14,\t\n",
    "    \"PFIT\" :\t6,\t\n",
    "    \"MFIB\" :\t11,\t\n",
    "    \"MNXT\" :\t13,\t\n",
    "    \"PFXT\" :\t4,\t\n",
    "    \"PNIB\" :\t8\n",
    "\t}"
   ]
  },
  {
   "cell_type": "code",
   "execution_count": 4,
   "metadata": {
    "collapsed": false
   },
   "outputs": [],
   "source": [
    "#f = ROOT.TFile(\"/afs/cern.ch/work/g/grandr/Bril/Data/warmingByFillAllProtons.root\")\n",
    "f = ROOT.TFile(\"/afs/cern.ch/work/g/grandr/Bril/Data/warmingByFill.root\")\n",
    "t = f.Get(\"t\")\n",
    "#t.Print()"
   ]
  },
  {
   "cell_type": "code",
   "execution_count": 5,
   "metadata": {
    "collapsed": false
   },
   "outputs": [
    {
     "ename": "AttributeError",
     "evalue": "'TObject' object has no attribute 'GetEntries'",
     "output_type": "error",
     "traceback": [
      "\u001b[1;31m---------------------------------------------------------------------------\u001b[0m",
      "\u001b[1;31mAttributeError\u001b[0m                            Traceback (most recent call last)",
      "\u001b[1;32m<ipython-input-5-d6cea89b0262>\u001b[0m in \u001b[0;36m<module>\u001b[1;34m()\u001b[0m\n\u001b[0;32m     17\u001b[0m \u001b[0mhp21\u001b[0m \u001b[1;33m=\u001b[0m \u001b[0mROOT\u001b[0m\u001b[1;33m.\u001b[0m\u001b[0mTH1D\u001b[0m\u001b[1;33m(\u001b[0m\u001b[1;34m\"hp21\"\u001b[0m\u001b[1;33m,\u001b[0m \u001b[1;34m\"p2\"\u001b[0m\u001b[1;33m,\u001b[0m \u001b[1;36m50\u001b[0m\u001b[1;33m,\u001b[0m \u001b[1;36m0.\u001b[0m\u001b[1;33m,\u001b[0m \u001b[1;36m0.\u001b[0m\u001b[1;33m)\u001b[0m\u001b[1;33m\u001b[0m\u001b[0m\n\u001b[0;32m     18\u001b[0m \u001b[1;31m#fill\u001b[0m\u001b[1;33m\u001b[0m\u001b[1;33m\u001b[0m\u001b[0m\n\u001b[1;32m---> 19\u001b[1;33m \u001b[1;32mfor\u001b[0m \u001b[0mi\u001b[0m \u001b[1;32min\u001b[0m \u001b[0mrange\u001b[0m\u001b[1;33m(\u001b[0m\u001b[1;36m0\u001b[0m\u001b[1;33m,\u001b[0m \u001b[0mt\u001b[0m\u001b[1;33m.\u001b[0m\u001b[0mGetEntries\u001b[0m\u001b[1;33m(\u001b[0m\u001b[1;33m)\u001b[0m\u001b[1;33m)\u001b[0m\u001b[1;33m:\u001b[0m\u001b[1;33m\u001b[0m\u001b[0m\n\u001b[0m\u001b[0;32m     20\u001b[0m     \u001b[0mnb\u001b[0m \u001b[1;33m=\u001b[0m \u001b[0mt\u001b[0m\u001b[1;33m.\u001b[0m\u001b[0mGetEntry\u001b[0m\u001b[1;33m(\u001b[0m\u001b[0mi\u001b[0m\u001b[1;33m)\u001b[0m\u001b[1;33m\u001b[0m\u001b[0m\n\u001b[0;32m     21\u001b[0m     \u001b[1;32mif\u001b[0m \u001b[0mnb\u001b[0m \u001b[1;33m<\u001b[0m \u001b[1;36m0\u001b[0m\u001b[1;33m:\u001b[0m\u001b[1;33m\u001b[0m\u001b[0m\n",
      "\u001b[1;31mAttributeError\u001b[0m: 'TObject' object has no attribute 'GetEntries'"
     ]
    }
   ],
   "source": [
    "#### Internal monitors\n",
    "detset = [\"MNIT\", \"PFIB\", \"PNIT\", \"MFIT\", \"MNIB\", \"PFIT\", \"MFIB\", \"PNIB\"]\n",
    "detIndx = []\n",
    "for det in detectors:\n",
    "    if det in detset:\n",
    "        detIndx.append(detectors[det])\n",
    "#Book\n",
    "binsX = 20\n",
    "binsY = 50\n",
    "hp0 = ROOT.TH2D(\"hp0\", \"p0 vs peakLumi for internal monitors\", binsX, 0., 0., binsY, 0., 0.)\n",
    "hp1 = ROOT.TH2D(\"hp1\", \"p1 vs peakLumi for internal monitors\", binsX, 0., 0., binsY, 0., 0.)\n",
    "hp2 = ROOT.TH2D(\"hp2\", \"p2 vs peakLumi for internal monitors\", binsX, 0., 0., binsY, 0., 0.)\n",
    "hu1 = ROOT.TH2D(\"hu1\", \"undercounting (1 hour) vs peakLumi for internal monitors\", binsX, 0., 0., binsY, 0., 0.)\n",
    "hu2 = ROOT.TH2D(\"hu2\", \"undercounting (2 hours) vs peakLumi for internal monitors\", binsX, 0., 0., binsY, 0., 0.)\n",
    "hu4 = ROOT.TH2D(\"hu4\", \"undercounting (4 hours) vs peakLumi for internal monitors\", binsX, 0., 0., binsY, 0., 0.)\n",
    "\n",
    "hp21 = ROOT.TH1D(\"hp21\", \"p2\", 50, 0., 0.)\n",
    "#fill\n",
    "for i in range(0, t.GetEntries()):\n",
    "    nb = t.GetEntry(i)\n",
    "    if nb < 0:\n",
    "        continue    \n",
    "    # Magnet ON\n",
    "    #if t.bField < 3.6:\n",
    "    #   continue\n",
    "    for j in range(0, 16):\n",
    "        if j not in  detIndx:\n",
    "            continue\n",
    "        if t.p2[j] < 0. or t.p2[j] > 10000.:\n",
    "            continue\n",
    "        hp0.Fill(t.peakLumi, t.p0[j])\n",
    "        hp1.Fill(t.peakLumi, t.p1[j])\n",
    "        hp2.Fill(t.peakLumi, t.p2[j])\n",
    "        hu1.Fill(t.peakLumi, t.ucount1[j]/t.tcount1[j])\n",
    "        hu2.Fill(t.peakLumi, t.ucount2[j]/t.tcount2[j])\n",
    "        hu4.Fill(t.peakLumi, t.ucount4[j]/t.tcount4[j])\n",
    "        # Fill 1D histo\n",
    "        if t.peakLumi > 2000.:\n",
    "            hp21.Fill(t.p2[j])\n",
    "\n",
    "#Make profiles\n",
    "pp0 = hp0.ProfileX() \n",
    "pp1 = hp1.ProfileX()  \n",
    "pp2 = hp2.ProfileX()  \n",
    "pu1 = hu1.ProfileX()  \n",
    "pu2 = hu2.ProfileX()  \n",
    "pu4 = hu4.ProfileX()  \n",
    "                   "
   ]
  },
  {
   "cell_type": "code",
   "execution_count": 66,
   "metadata": {
    "collapsed": false
   },
   "outputs": [
    {
     "name": "stderr",
     "output_type": "stream",
     "text": [
      "TCanvas::Constructor:0: RuntimeWarning: Deleting canvas with same name: c\n"
     ]
    }
   ],
   "source": [
    "#Draw (change histo id)\n",
    "c = ROOT.TCanvas('c', '', 800, 600)\n",
    "pp2.Draw()"
   ]
  },
  {
   "cell_type": "code",
   "execution_count": 30,
   "metadata": {
    "collapsed": false
   },
   "outputs": [],
   "source": [
    "#Draw fill information\n",
    "c = ROOT.TCanvas('c', '', 800, 600)\n",
    "#t.Draw(\"t.fillStable - t.fillColl\")\n",
    "t.Draw(\"t.fillStabl\")"
   ]
  },
  {
   "cell_type": "code",
   "execution_count": null,
   "metadata": {
    "collapsed": false
   },
   "outputs": [],
   "source": []
  }
 ],
 "metadata": {
  "kernelspec": {
   "display_name": "Python 2",
   "language": "python",
   "name": "python2"
  },
  "language_info": {
   "codemirror_mode": {
    "name": "ipython",
    "version": 2
   },
   "file_extension": ".py",
   "mimetype": "text/x-python",
   "name": "python",
   "nbconvert_exporter": "python",
   "pygments_lexer": "ipython2",
   "version": "2.7.10"
  }
 },
 "nbformat": 4,
 "nbformat_minor": 0
}
