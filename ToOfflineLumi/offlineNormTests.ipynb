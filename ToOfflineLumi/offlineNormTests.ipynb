{
 "cells": [
  {
   "cell_type": "code",
   "execution_count": 7,
   "metadata": {
    "collapsed": false,
    "scrolled": false
   },
   "outputs": [
    {
     "name": "stdout",
     "output_type": "stream",
     "text": [
      "Help on module miscTestsOffline:\n",
      "\n",
      "NAME\n",
      "    miscTestsOffline - Various tests for normalization to offline lumi\n",
      "\n",
      "FILE\n",
      "    /home/grandr/cms/Bril/RadmonAnalysis/ToOfflineLumi/miscTestsOffline.py\n",
      "\n",
      "FUNCTIONS\n",
      "    meanFluenceVsLumi()\n",
      "        mean neutron fluence vs offline lumi\n",
      "    \n",
      "    meanRackFluenceVsLumi()\n",
      "        mean neutron fluence near Racks vs offline lumi\n",
      "    \n",
      "    printFills()\n",
      "        Print list of fills in FillReport.xls\n",
      "    \n",
      "    ratio2mean()\n",
      "        ratios of fluence for single detector to mean fluence vs fill nmber\n",
      "\n",
      "DATA\n",
      "    cfg = <xconfig.Config instance>\n",
      "    deltaWarming = 3600\n",
      "    detInfo = {'mfib': ['11', '1', '1.20'], 'mfit': ['12', '15', '1.13'], ...\n",
      "    dummy = {'mfib': '11\\t1       1.20', 'mfit': '12\\t15      1.13', 'mfxt...\n",
      "    fillReport = <fillReport.FillReport instance>\n",
      "    key = 'pnib'\n",
      "    t = <ROOT.TChain object (\"t\")>\n",
      "\n",
      "\n"
     ]
    }
   ],
   "source": [
    "import miscTestsOffline as mt\n",
    "import ROOT\n",
    "reload(mt)\n",
    "help(mt)"
   ]
  },
  {
   "cell_type": "markdown",
   "metadata": {},
   "source": [
    "### Mean neutron flux vs Lumi"
   ]
  },
  {
   "cell_type": "code",
   "execution_count": 2,
   "metadata": {
    "collapsed": false
   },
   "outputs": [
    {
     "name": "stdout",
     "output_type": "stream",
     "text": [
      "Histograms: histos[ hrfillplt,hrfill,hrfillhf,hflxplt,hflxhf,hflxlumi ]\n"
     ]
    }
   ],
   "source": [
    "# hrfill, prfill, hflxlumi, hflxplt, hflxhf = mt.meanFluenceVsLumi()\n",
    "histos = mt.meanFluenceVsLumi()"
   ]
  },
  {
   "cell_type": "code",
   "execution_count": 4,
   "metadata": {
    "collapsed": false
   },
   "outputs": [],
   "source": [
    "#Mean flux vs hf and plt lumi\n",
    "ROOT.gStyle.SetOptStat(0000);\n",
    "c = ROOT.TCanvas(\"c\", \"c\", 800, 600)\n",
    "histos['hflxplt'].Draw()"
   ]
  },
  {
   "cell_type": "code",
   "execution_count": 3,
   "metadata": {
    "collapsed": false
   },
   "outputs": [],
   "source": [
    "## Mean flux vs lumi. 3 dependencies in one plot\n",
    "ROOT.gStyle.SetOptStat(0000);\n",
    "c = ROOT.TCanvas(\"c\", \"c\", 800, 600)\n",
    "histos['hflxplt'].SetLineColor(ROOT.kRed)\n",
    "histos['hflxhf'].SetLineColor(ROOT.kBlue)\n",
    "histos['hflxlumi'].SetLineColor(ROOT.kBlack)\n",
    "histos['hflxlumi'].Draw()\n",
    "histos['hflxhf'].Draw(\"same\")\n",
    "histos['hflxplt'].Draw(\"same\")"
   ]
  },
  {
   "cell_type": "code",
   "execution_count": 4,
   "metadata": {
    "collapsed": false
   },
   "outputs": [
    {
     "name": "stderr",
     "output_type": "stream",
     "text": [
      "TCanvas::Constructor:0: RuntimeWarning: Deleting canvas with same name: c\n"
     ]
    }
   ],
   "source": [
    "## Ratio flux over lumi vs fill No\n",
    "ROOT.gStyle.SetOptStat(0000);\n",
    "c = ROOT.TCanvas(\"c\", \"c\", 800, 600)\n",
    "histos['hrfillplt'].SetLineColor(ROOT.kRed)\n",
    "histos['hrfillhf'].SetLineColor(ROOT.kBlue)\n",
    "histos['hrfill'].SetLineColor(ROOT.kBlack)\n",
    "histos['hrfill'].Draw()\n",
    "histos['hrfillhf'].Draw(\"same\")\n",
    "histos['hrfillplt'].Draw(\"same\")"
   ]
  },
  {
   "cell_type": "code",
   "execution_count": 9,
   "metadata": {
    "collapsed": true
   },
   "outputs": [],
   "source": [
    "ROOT.gStyle.SetOptStat(0000);\n",
    "ROOT.gStyle.SetOptFit(1111);\n",
    "call = ROOT.TCanvas(\"call\", \"All Data\", 800, 600)\n",
    "histos['hflxlumi'].SetLineColor(ROOT.kBlack)\n",
    "histos['hflxlumi'].Draw()"
   ]
  },
  {
   "cell_type": "code",
   "execution_count": 8,
   "metadata": {
    "collapsed": true
   },
   "outputs": [],
   "source": [
    "ROOT.gStyle.SetOptStat(0000);\n",
    "ROOT.gStyle.SetOptFit(1111);\n",
    "cplt = ROOT.TCanvas(\"cplt\", \"PLT Data\", 800, 600)\n",
    "histos['hflxplt'].SetLineColor(ROOT.kBlue)\n",
    "histos['hflxplt'].Draw()"
   ]
  },
  {
   "cell_type": "code",
   "execution_count": 6,
   "metadata": {
    "collapsed": true
   },
   "outputs": [],
   "source": [
    "ROOT.gStyle.SetOptStat(0000);\n",
    "ROOT.gStyle.SetOptFit(1111);\n",
    "chf = ROOT.TCanvas(\"chf\", \"HF Data\", 800, 600)\n",
    "histos['hflxhf'].SetLineColor(ROOT.kBlue)\n",
    "histos['hflxhf'].Draw()"
   ]
  },
  {
   "cell_type": "markdown",
   "metadata": {},
   "source": [
    "### Mean neutron flux vs Lumi near Racks"
   ]
  },
  {
   "cell_type": "code",
   "execution_count": 8,
   "metadata": {
    "collapsed": false
   },
   "outputs": [
    {
     "name": "stderr",
     "output_type": "stream",
     "text": [
      "TROOT::Append:0: RuntimeWarning: Replacing existing TH1: hflxlumi (Potential memory leak).\n",
      "TROOT::Append:0: RuntimeWarning: Replacing existing TH1: tflxlumi (Potential memory leak).\n",
      "TROOT::Append:0: RuntimeWarning: Replacing existing TH1: tflxlumiplt (Potential memory leak).\n",
      "TROOT::Append:0: RuntimeWarning: Replacing existing TH1: tflxlumihf (Potential memory leak).\n"
     ]
    }
   ],
   "source": [
    "hflxlumi, prflxlumi, tflxlumi, tflxlumihf,  tflxlumiplt = mt.meanRackFluenceVsLumi()"
   ]
  },
  {
   "cell_type": "code",
   "execution_count": 9,
   "metadata": {
    "collapsed": false
   },
   "outputs": [],
   "source": [
    "# #Mean flux vs lumi\n",
    "# c = ROOT.TCanvas(\"c\", \"c\", 800, 800)\n",
    "# c.Divide(1,2)\n",
    "# c.cd(1)\n",
    "# hflxlumi.Draw()\n",
    "# c.cd(2)\n",
    "# prflxlumi.Draw()\n",
    "# c1 = ROOT.TCanvas(\"c1\", \"c1\", 600, 600)\n",
    "# tflxlumi.Draw()\n",
    "ROOT.gStyle.SetOptStat(0000)\n",
    "c1 = ROOT.TCanvas(\"c1\", \"c1\", 800, 800)\n",
    "tflxlumihf.Draw()\n",
    "tflxlumihf.SetLineColor(ROOT.kRed)\n",
    "tflxlumiplt.Draw(\"same\")"
   ]
  },
  {
   "cell_type": "markdown",
   "metadata": {
    "collapsed": true
   },
   "source": [
    "### Ratio for detector flux over mean flux vs fill"
   ]
  },
  {
   "cell_type": "code",
   "execution_count": 17,
   "metadata": {
    "collapsed": false
   },
   "outputs": [
    {
     "name": "stdout",
     "output_type": "stream",
     "text": [
      "Ratio to mean flux of  PFIT,PFIB,PNIT,PNIB,MNIB,MNIT\n",
      "Warming cut = 1.0  hours\n"
     ]
    },
    {
     "name": "stderr",
     "output_type": "stream",
     "text": [
      "TROOT::Append:0: RuntimeWarning: Replacing existing TH1: PFXT (Potential memory leak).\n",
      "TROOT::Append:0: RuntimeWarning: Replacing existing TH1: PFIB (Potential memory leak).\n",
      "TROOT::Append:0: RuntimeWarning: Replacing existing TH1: PFIT (Potential memory leak).\n",
      "TROOT::Append:0: RuntimeWarning: Replacing existing TH1: PNXT (Potential memory leak).\n",
      "TROOT::Append:0: RuntimeWarning: Replacing existing TH1: PNIB (Potential memory leak).\n",
      "TROOT::Append:0: RuntimeWarning: Replacing existing TH1: PNIT (Potential memory leak).\n",
      "TROOT::Append:0: RuntimeWarning: Replacing existing TH1: MFXT (Potential memory leak).\n",
      "TROOT::Append:0: RuntimeWarning: Replacing existing TH1: MFIB (Potential memory leak).\n",
      "TROOT::Append:0: RuntimeWarning: Replacing existing TH1: MFIT (Potential memory leak).\n",
      "TROOT::Append:0: RuntimeWarning: Replacing existing TH1: MNXT (Potential memory leak).\n",
      "TROOT::Append:0: RuntimeWarning: Replacing existing TH1: MNIB (Potential memory leak).\n",
      "TROOT::Append:0: RuntimeWarning: Replacing existing TH1: MNIT (Potential memory leak).\n"
     ]
    },
    {
     "name": "stdout",
     "output_type": "stream",
     "text": [
      "Histos (histos[det]) and profiles (profx[det]) available for MFXT,MNIT,PFIB,PNIT,MFIT,MNIB,PFIT,PNXT,MFIB,MNXT,PFXT,PNIB\n"
     ]
    }
   ],
   "source": [
    "histos, profx = mt.ratio2mean()"
   ]
  },
  {
   "cell_type": "code",
   "execution_count": 25,
   "metadata": {
    "collapsed": false
   },
   "outputs": [
    {
     "name": "stderr",
     "output_type": "stream",
     "text": [
      "TCanvas::Constructor:0: RuntimeWarning: Deleting canvas with same name: c\n"
     ]
    }
   ],
   "source": [
    "c = ROOT.TCanvas(\"c\", \"c\", 800, 800)\n",
    "c.Divide(1,2)\n",
    "detector = \"MFIT\"\n",
    "c.cd(1)\n",
    "histos[detector].Draw()\n",
    "c.cd(2)\n",
    "profx[detector].Draw()"
   ]
  },
  {
   "cell_type": "code",
   "execution_count": 8,
   "metadata": {
    "collapsed": false
   },
   "outputs": [
    {
     "name": "stdout",
     "output_type": "stream",
     "text": [
      "[4888,4889,4890,4892,4895,4896,4905,4906,4910,4915,4919,4924,4925,4926,4930,4935,4937,4942,4945,4947,4953,4954,4956,4958,4960,4961,4964,4965,4976,4979,4980,4984,4985,4988,4990,5005,5013,5017,5020,5021,5024,5026,5027,5028,5029,5030,5038,5043,5045,5048,5052,5056,5059,5060,5068,5069,5071,5072,5073,5076,5078,5080,5083,5085,5091,5093,5095,5096,5097,5101,5102,5105,5106,5107,5108,5109,5110,5111,5112,5116,5117,5149,5151,5154,5161,5162,5163,5169,5170,5173,5179,5181,5183,5187,5194,5196,5197,5198,5199,5205,5206,5209,5210,5211,5213,5219,5222,5223,5229,5246,5247,5251,5253,5254,5256,5257,5258,5261,5264,5265,5266,5267,5270,5274,5275,5276,5277,5279,5282,5287,5288,5330,5331,5332,5338,5339,5340,5345,5351,5352,5355,5370,5385,5386,5391,5393]\n"
     ]
    }
   ],
   "source": [
    "mt.printFills()"
   ]
  },
  {
   "cell_type": "markdown",
   "metadata": {},
   "source": [
    "## Make graphs for all detectors and fit them "
   ]
  },
  {
   "cell_type": "code",
   "execution_count": 65,
   "metadata": {
    "collapsed": false
   },
   "outputs": [
    {
     "name": "stdout",
     "output_type": "stream",
     "text": [
      "Making root chain from files /scr1/RadMonLumi/2016/OfflineLumi/Radmon_normtag_BRIL/*.root\n",
      "Fills used [4888, 4889, 4890, 4892, 4895, 4896, 4905, 4906, 4910, 4915, 4919, 4924, 4925, 4926, 4930, 4935, 4937, 4942, 4945, 4947, 4953, 4954, 4956, 4958, 4960, 4961, 4964, 4965, 4976, 4979, 4980, 4984, 4985, 4988, 4990, 5005, 5013, 5017, 5020, 5021, 5024, 5026, 5027, 5028, 5029, 5030, 5038, 5043, 5045, 5048, 5052, 5056, 5059, 5060, 5068, 5069, 5071, 5072, 5073, 5076, 5078, 5080, 5083, 5085, 5091, 5093, 5095, 5096, 5097, 5101, 5102, 5105, 5106, 5107, 5108, 5109, 5110, 5111, 5112, 5116, 5117, 5149, 5151, 5154, 5161, 5162, 5163, 5169, 5170, 5173, 5179, 5181, 5183, 5187, 5194, 5196, 5197, 5198, 5199, 5205, 5206, 5209, 5210, 5211, 5213, 5219, 5222, 5223, 5229, 5246, 5247, 5251, 5253, 5254, 5256, 5257, 5258, 5261, 5264, 5265, 5266, 5267, 5270, 5274, 5275, 5276, 5277, 5279, 5282, 5287, 5288, 5330, 5331, 5332, 5338, 5339, 5340, 5345, 5351, 5352, 5355, 5370, 5385, 5386, 5391, 5393]\n",
      "deltaTs from the start of the fill= 2400\n"
     ]
    }
   ],
   "source": [
    "from  lumiRateGraphs import *\n",
    "reload(lumiRateGraphs)\n",
    "from  lumiRateGraphs import *\n",
    "p = LumiRateGraphs()\n",
    "p.makeGraphs()"
   ]
  },
  {
   "cell_type": "code",
   "execution_count": 56,
   "metadata": {
    "collapsed": false
   },
   "outputs": [
    {
     "name": "stderr",
     "output_type": "stream",
     "text": [
      "TCanvas::Constructor:0: RuntimeWarning: Deleting canvas with same name: c\n"
     ]
    }
   ],
   "source": [
    "c = ROOT.TCanvas(\"c\", \"c\")\n",
    "p.drawGraph(\"pfit\");"
   ]
  },
  {
   "cell_type": "markdown",
   "metadata": {},
   "source": [
    "## Make profiles and fit them to linear dependence"
   ]
  },
  {
   "cell_type": "code",
   "execution_count": 6,
   "metadata": {
    "collapsed": false
   },
   "outputs": [
    {
     "ename": "NameError",
     "evalue": "name 'lumiRateProfiles' is not defined",
     "output_type": "error",
     "traceback": [
      "\u001b[1;31m---------------------------------------------------------------------------\u001b[0m",
      "\u001b[1;31mNameError\u001b[0m                                 Traceback (most recent call last)",
      "\u001b[1;32m<ipython-input-6-5a6ba64169a1>\u001b[0m in \u001b[0;36m<module>\u001b[1;34m()\u001b[0m\n\u001b[0;32m      1\u001b[0m \u001b[1;32mfrom\u001b[0m  \u001b[0mlumiRateProfiles\u001b[0m \u001b[1;32mimport\u001b[0m \u001b[1;33m*\u001b[0m\u001b[1;33m\u001b[0m\u001b[0m\n\u001b[1;32m----> 2\u001b[1;33m \u001b[0mreload\u001b[0m\u001b[1;33m(\u001b[0m\u001b[0mlumiRateProfiles\u001b[0m\u001b[1;33m)\u001b[0m\u001b[1;33m\u001b[0m\u001b[0m\n\u001b[0m\u001b[0;32m      3\u001b[0m \u001b[1;32mfrom\u001b[0m  \u001b[0mlumiRateProfiles\u001b[0m \u001b[1;32mimport\u001b[0m \u001b[1;33m*\u001b[0m\u001b[1;33m\u001b[0m\u001b[0m\n\u001b[0;32m      4\u001b[0m \u001b[0mp\u001b[0m \u001b[1;33m=\u001b[0m \u001b[0mLumiRateProfiles\u001b[0m\u001b[1;33m(\u001b[0m\u001b[1;33m)\u001b[0m\u001b[1;33m\u001b[0m\u001b[0m\n\u001b[0;32m      5\u001b[0m \u001b[0mp\u001b[0m\u001b[1;33m.\u001b[0m\u001b[0mmakeProfiles\u001b[0m\u001b[1;33m(\u001b[0m\u001b[1;33m)\u001b[0m\u001b[1;33m\u001b[0m\u001b[0m\n",
      "\u001b[1;31mNameError\u001b[0m: name 'lumiRateProfiles' is not defined"
     ]
    }
   ],
   "source": [
    "from  lumiRateProfiles import *\n",
    "reload(lumiRateProfiles)\n",
    "from  lumiRateProfiles import *\n",
    "p = LumiRateProfiles()\n",
    "p.makeProfiles()"
   ]
  },
  {
   "cell_type": "code",
   "execution_count": null,
   "metadata": {
    "collapsed": true
   },
   "outputs": [],
   "source": []
  }
 ],
 "metadata": {
  "kernelspec": {
   "display_name": "Python 2",
   "language": "python",
   "name": "python2"
  },
  "language_info": {
   "codemirror_mode": {
    "name": "ipython",
    "version": 2
   },
   "file_extension": ".py",
   "mimetype": "text/x-python",
   "name": "python",
   "nbconvert_exporter": "python",
   "pygments_lexer": "ipython2",
   "version": "2.7.12"
  }
 },
 "nbformat": 4,
 "nbformat_minor": 0
}
