{
 "cells": [
  {
   "cell_type": "code",
   "execution_count": 1,
   "metadata": {
    "collapsed": false,
    "scrolled": false
   },
   "outputs": [
    {
     "name": "stdout",
     "output_type": "stream",
     "text": [
      "Help on module miscTestsOffline:\n",
      "\n",
      "NAME\n",
      "    miscTestsOffline - Various tests for normalization to offline lumi\n",
      "\n",
      "FILE\n",
      "    /home/grandr/cms/Bril/RadmonAnalysis/ToOfflineLumi/miscTestsOffline.py\n",
      "\n",
      "FUNCTIONS\n",
      "    meanFluenceVsLumi()\n",
      "        mean neutron fluence vs offline lumi\n",
      "    \n",
      "    ratio2mean()\n",
      "        ratios of fluence for single detector to mean fluence vs fill nmber\n",
      "\n",
      "DATA\n",
      "    cfg = <xconfig.Config instance>\n",
      "    deltaWarming = 3600\n",
      "    detInfo = {'mfib': ['11', '1', '1.20'], 'mfit': ['12', '15', '1.13'], ...\n",
      "    dummy = {'mfib': '11\\t1       1.20', 'mfit': '12\\t15      1.13', 'mfxt...\n",
      "    fillReport = <fillReport.FillReport instance>\n",
      "    key = 'pnib'\n",
      "    t = <ROOT.TChain object (\"t\")>\n",
      "\n",
      "\n"
     ]
    }
   ],
   "source": [
    "import miscTestsOffline as mt\n",
    "import ROOT\n",
    "reload(mt)\n",
    "help(mt)"
   ]
  },
  {
   "cell_type": "markdown",
   "metadata": {},
   "source": [
    "### Mean neutron flux vs Lumi"
   ]
  },
  {
   "cell_type": "code",
   "execution_count": 2,
   "metadata": {
    "collapsed": false
   },
   "outputs": [
    {
     "name": "stdout",
     "output_type": "stream",
     "text": [
      "Done\n"
     ]
    }
   ],
   "source": [
    "# hrfill, prfill, hflxlumi, hflxplt, hflxhf = mt.meanFluenceVsLumi()\n",
    "mt.meanFluenceVsLumi()"
   ]
  },
  {
   "cell_type": "code",
   "execution_count": 18,
   "metadata": {
    "collapsed": false
   },
   "outputs": [
    {
     "ename": "NameError",
     "evalue": "name 'hflxplt' is not defined",
     "output_type": "error",
     "traceback": [
      "\u001b[1;31m---------------------------------------------------------------------------\u001b[0m",
      "\u001b[1;31mNameError\u001b[0m                                 Traceback (most recent call last)",
      "\u001b[1;32m<ipython-input-18-ec3d09c34a2e>\u001b[0m in \u001b[0;36m<module>\u001b[1;34m()\u001b[0m\n\u001b[0;32m      2\u001b[0m \u001b[0mROOT\u001b[0m\u001b[1;33m.\u001b[0m\u001b[0mgStyle\u001b[0m\u001b[1;33m.\u001b[0m\u001b[0mSetOptStat\u001b[0m\u001b[1;33m(\u001b[0m\u001b[1;36m0000\u001b[0m\u001b[1;33m)\u001b[0m\u001b[1;33m;\u001b[0m\u001b[1;33m\u001b[0m\u001b[0m\n\u001b[0;32m      3\u001b[0m \u001b[0mc\u001b[0m \u001b[1;33m=\u001b[0m \u001b[0mROOT\u001b[0m\u001b[1;33m.\u001b[0m\u001b[0mTCanvas\u001b[0m\u001b[1;33m(\u001b[0m\u001b[1;34m\"c\"\u001b[0m\u001b[1;33m,\u001b[0m \u001b[1;34m\"c\"\u001b[0m\u001b[1;33m,\u001b[0m \u001b[1;36m800\u001b[0m\u001b[1;33m,\u001b[0m \u001b[1;36m600\u001b[0m\u001b[1;33m)\u001b[0m\u001b[1;33m\u001b[0m\u001b[0m\n\u001b[1;32m----> 4\u001b[1;33m \u001b[0mhflxplt\u001b[0m\u001b[1;33m.\u001b[0m\u001b[0mSetLineColor\u001b[0m\u001b[1;33m(\u001b[0m\u001b[0mROOT\u001b[0m\u001b[1;33m.\u001b[0m\u001b[0mkRed\u001b[0m\u001b[1;33m)\u001b[0m\u001b[1;33m\u001b[0m\u001b[0m\n\u001b[0m\u001b[0;32m      5\u001b[0m \u001b[0mhflxplt\u001b[0m\u001b[1;33m.\u001b[0m\u001b[0mSetMarkerColor\u001b[0m\u001b[1;33m(\u001b[0m\u001b[0mROOT\u001b[0m\u001b[1;33m.\u001b[0m\u001b[0mkRed\u001b[0m\u001b[1;33m)\u001b[0m\u001b[1;33m\u001b[0m\u001b[0m\n\u001b[0;32m      6\u001b[0m \u001b[0mhflxplt\u001b[0m\u001b[1;33m.\u001b[0m\u001b[0mDraw\u001b[0m\u001b[1;33m(\u001b[0m\u001b[1;33m)\u001b[0m\u001b[1;33m\u001b[0m\u001b[0m\n",
      "\u001b[1;31mNameError\u001b[0m: name 'hflxplt' is not defined"
     ]
    }
   ],
   "source": [
    "#Mean flux vs hf and plt lumi\n",
    "ROOT.gStyle.SetOptStat(0000);\n",
    "c = ROOT.TCanvas(\"c\", \"c\", 800, 600)\n",
    "hflxplt.SetLineColor(ROOT.kRed)\n",
    "hflxplt.SetMarkerColor(ROOT.kRed)\n",
    "hflxplt.Draw()\n",
    "hflxhf.SetLineColor(ROOT.kBlue)\n",
    "hflxhf.SetMarkerColor(ROOT.kBlue)\n",
    "hflxhf.Draw(\"same\")"
   ]
  },
  {
   "cell_type": "code",
   "execution_count": 19,
   "metadata": {
    "collapsed": false
   },
   "outputs": [
    {
     "ename": "NameError",
     "evalue": "name 'hflxlumi' is not defined",
     "output_type": "error",
     "traceback": [
      "\u001b[1;31m---------------------------------------------------------------------------\u001b[0m",
      "\u001b[1;31mNameError\u001b[0m                                 Traceback (most recent call last)",
      "\u001b[1;32m<ipython-input-19-b93d8c74ecf3>\u001b[0m in \u001b[0;36m<module>\u001b[1;34m()\u001b[0m\n\u001b[0;32m      3\u001b[0m \u001b[0mc\u001b[0m\u001b[1;33m.\u001b[0m\u001b[0mDivide\u001b[0m\u001b[1;33m(\u001b[0m\u001b[1;36m1\u001b[0m\u001b[1;33m,\u001b[0m\u001b[1;36m3\u001b[0m\u001b[1;33m)\u001b[0m\u001b[1;33m\u001b[0m\u001b[0m\n\u001b[0;32m      4\u001b[0m \u001b[0mc\u001b[0m\u001b[1;33m.\u001b[0m\u001b[0mcd\u001b[0m\u001b[1;33m(\u001b[0m\u001b[1;36m1\u001b[0m\u001b[1;33m)\u001b[0m\u001b[1;33m\u001b[0m\u001b[0m\n\u001b[1;32m----> 5\u001b[1;33m \u001b[0mhflxlumi\u001b[0m\u001b[1;33m.\u001b[0m\u001b[0mDraw\u001b[0m\u001b[1;33m(\u001b[0m\u001b[1;33m)\u001b[0m\u001b[1;33m\u001b[0m\u001b[0m\n\u001b[0m\u001b[0;32m      6\u001b[0m \u001b[0mc\u001b[0m\u001b[1;33m.\u001b[0m\u001b[0mcd\u001b[0m\u001b[1;33m(\u001b[0m\u001b[1;36m2\u001b[0m\u001b[1;33m)\u001b[0m\u001b[1;33m\u001b[0m\u001b[0m\n\u001b[0;32m      7\u001b[0m \u001b[0mhrfill\u001b[0m\u001b[1;33m.\u001b[0m\u001b[0mDraw\u001b[0m\u001b[1;33m(\u001b[0m\u001b[1;33m)\u001b[0m\u001b[1;33m\u001b[0m\u001b[0m\n",
      "\u001b[1;31mNameError\u001b[0m: name 'hflxlumi' is not defined"
     ]
    }
   ],
   "source": [
    "#Mean flux vs lumi\n",
    "c = ROOT.TCanvas(\"c\", \"c\", 1000, 800)\n",
    "c.Divide(1,3)\n",
    "c.cd(1)\n",
    "hflxlumi.Draw()\n",
    "c.cd(2)\n",
    "hrfill.Draw()\n",
    "c.cd(3)\n",
    "prfill.Draw()"
   ]
  },
  {
   "cell_type": "markdown",
   "metadata": {
    "collapsed": true
   },
   "source": [
    "###Ratio for detector flux over mean flux vs fill"
   ]
  },
  {
   "cell_type": "code",
   "execution_count": 2,
   "metadata": {
    "collapsed": false
   },
   "outputs": [
    {
     "name": "stdout",
     "output_type": "stream",
     "text": [
      "Ratio to mean flux of  PFIT,PFIB,PNIT,PNIB,MNIB,MNIT\n",
      "Warming cut = 1.0  hours\n",
      "Histos (histos[det]) and profiles (profx[det]) available for MFXT,MNIT,PFIB,PNIT,MFIT,MNIB,PFIT,PNXT,MFIB,MNXT,PFXT,PNIB\n"
     ]
    }
   ],
   "source": [
    "histos, profx = mt.ratio2mean()"
   ]
  },
  {
   "cell_type": "code",
   "execution_count": 10,
   "metadata": {
    "collapsed": false
   },
   "outputs": [
    {
     "name": "stderr",
     "output_type": "stream",
     "text": [
      "TCanvas::Constructor:0: RuntimeWarning: Deleting canvas with same name: c\n"
     ]
    }
   ],
   "source": [
    "c = ROOT.TCanvas(\"c\", \"c\", 800, 800)\n",
    "c.Divide(1,2)\n",
    "detector = \"MNIB\"\n",
    "c.cd(1)\n",
    "histos[detector].Draw()\n",
    "c.cd(2)\n",
    "profx[detector].Draw()"
   ]
  },
  {
   "cell_type": "code",
   "execution_count": null,
   "metadata": {
    "collapsed": true
   },
   "outputs": [],
   "source": []
  }
 ],
 "metadata": {
  "kernelspec": {
   "display_name": "Python 2",
   "language": "python",
   "name": "python2"
  },
  "language_info": {
   "codemirror_mode": {
    "name": "ipython",
    "version": 2
   },
   "file_extension": ".py",
   "mimetype": "text/x-python",
   "name": "python",
   "nbconvert_exporter": "python",
   "pygments_lexer": "ipython2",
   "version": "2.7.12"
  }
 },
 "nbformat": 4,
 "nbformat_minor": 0
}
