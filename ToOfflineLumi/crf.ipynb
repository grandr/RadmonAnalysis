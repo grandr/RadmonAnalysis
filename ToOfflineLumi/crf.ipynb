{
 "cells": [
  {
   "cell_type": "code",
   "execution_count": 134,
   "metadata": {
    "collapsed": false
   },
   "outputs": [
    {
     "name": "stdout",
     "output_type": "stream",
     "text": [
      "Help on module crf:\n",
      "\n",
      "NAME\n",
      "    crf\n",
      "\n",
      "FILE\n",
      "    /home/grandr/cms/Bril/RadmonAnalysis/ToOfflineLumi/crf.py\n",
      "\n",
      "DESCRIPTION\n",
      "    Studies with pPb data\n",
      "    (crf ratio etc)\n",
      "\n",
      "FUNCTIONS\n",
      "    init()\n",
      "        Some initialization\n",
      "    \n",
      "    lumiVsFill()\n",
      "        Mean lumi vs fill and vs time\n",
      "    \n",
      "    lumiVsTime()\n",
      "        Lumi vs time\n",
      "    \n",
      "    lumivsFill()\n",
      "        Mean lumi vs fill\n",
      "    \n",
      "    pfcr2pfxtRatio()\n",
      "        Ratio of flux near totem rack and PFXT\n",
      "\n",
      "DATA\n",
      "    deltaWarming = 3600\n",
      "    detInfo = {}\n",
      "    filePattern = '/scr1/RadMonLumi/2016/OfflineLumi/Radmon_normtag_BRIL/r...\n",
      "    fillReport = <fillReport.FillReport instance>\n",
      "    fills = []\n",
      "    nFillBins = 50\n",
      "    nTimeBins = 10000\n",
      "    nbins = 50\n",
      "    t = <ROOT.TChain object (\"t\")>\n",
      "\n",
      "\n"
     ]
    }
   ],
   "source": [
    "import crf \n",
    "import ROOT\n",
    "reload(crf)\n",
    "help(crf)"
   ]
  },
  {
   "cell_type": "code",
   "execution_count": 136,
   "metadata": {
    "collapsed": false
   },
   "outputs": [
    {
     "name": "stdout",
     "output_type": "stream",
     "text": [
      "Fills used: [5505, 5506, 5507, 5510, 5513, 5514, 5519, 5520, 5521, 5522, 5523, 5524, 5505, 5506, 5507, 5510, 5513, 5514, 5519, 5520, 5521, 5522, 5523, 5524]\n"
     ]
    },
    {
     "name": "stderr",
     "output_type": "stream",
     "text": [
      "TROOT::Append:0: RuntimeWarning: Replacing existing TH1: plfill (Potential memory leak).\n",
      "TROOT::Append:0: RuntimeWarning: Replacing existing TH1: pltime (Potential memory leak).\n"
     ]
    }
   ],
   "source": [
    "plfill, pltime = crf.lumiVsFill()"
   ]
  },
  {
   "cell_type": "code",
   "execution_count": 137,
   "metadata": {
    "collapsed": false
   },
   "outputs": [],
   "source": [
    "ROOT.gStyle.SetOptStat(0000);\n",
    "c = ROOT.TCanvas(\"c\", \"c\", 800, 800)\n",
    "c.Divide(1,2)\n",
    "c.cd(1)\n",
    "plfill.Draw()\n",
    "c.cd(2)\n",
    "# pltime.GetXaxis().SetTimeFormat(\"%m-%d\") \n",
    "pltime.Draw()"
   ]
  },
  {
   "cell_type": "code",
   "execution_count": 132,
   "metadata": {
    "collapsed": false
   },
   "outputs": [
    {
     "name": "stdout",
     "output_type": "stream",
     "text": [
      "Fills used: [5505, 5506, 5507, 5510, 5513, 5514, 5519, 5520, 5521, 5522, 5523, 5524]\n"
     ]
    },
    {
     "name": "stderr",
     "output_type": "stream",
     "text": [
      "TROOT::Append:0: RuntimeWarning: Replacing existing TH1: hr (Potential memory leak).\n"
     ]
    }
   ],
   "source": [
    "hr = crf.pfcr2pfxtRatio()"
   ]
  },
  {
   "cell_type": "code",
   "execution_count": 133,
   "metadata": {
    "collapsed": false
   },
   "outputs": [
    {
     "name": "stderr",
     "output_type": "stream",
     "text": [
      "TCanvas::Constructor:0: RuntimeWarning: Deleting canvas with same name: c1\n"
     ]
    }
   ],
   "source": [
    "c = ROOT.TCanvas(\"c1\", \"c1\", 800, 600)\n",
    "ROOT.gStyle.SetOptFit(1111)\n",
    "hr.Draw()"
   ]
  },
  {
   "cell_type": "code",
   "execution_count": null,
   "metadata": {
    "collapsed": true
   },
   "outputs": [],
   "source": []
  }
 ],
 "metadata": {
  "kernelspec": {
   "display_name": "Python 2",
   "language": "python",
   "name": "python2"
  },
  "language_info": {
   "codemirror_mode": {
    "name": "ipython",
    "version": 2
   },
   "file_extension": ".py",
   "mimetype": "text/x-python",
   "name": "python",
   "nbconvert_exporter": "python",
   "pygments_lexer": "ipython2",
   "version": "2.7.12"
  }
 },
 "nbformat": 4,
 "nbformat_minor": 0
}
